{
 "cells": [
  {
   "cell_type": "code",
   "execution_count": 1,
   "metadata": {},
   "outputs": [],
   "source": [
    "import sys\n",
    "sys.path.append('..')\n",
    "from aipy.ai import *\n"
   ]
  },
  {
   "cell_type": "code",
   "execution_count": 2,
   "metadata": {},
   "outputs": [],
   "source": [
    "chat = load_chat('codechat.pickle')"
   ]
  },
  {
   "cell_type": "code",
   "execution_count": 15,
   "metadata": {},
   "outputs": [
    {
     "data": {
      "text/plain": [
       "'[\"Code\", \"AI\", \"Conversation\"]'"
      ]
     },
     "execution_count": 15,
     "metadata": {},
     "output_type": "execute_result"
    }
   ],
   "source": [
    "chat.ask('Give me up to three descriptive one word topics for this chat, in a JSON list, with no introduction or explanation', \n",
    "     max_tokens=40, keep=False, temperature=0.2)"
   ]
  },
  {
   "cell_type": "code",
   "execution_count": 3,
   "metadata": {},
   "outputs": [
    {
     "name": "stdout",
     "output_type": "stream",
     "text": [
      "Saving Chat object to .\\code_chatbot_NLP_230526_220417.pkl\n"
     ]
    }
   ],
   "source": [
    "chat.save()\n"
   ]
  },
  {
   "cell_type": "code",
   "execution_count": 5,
   "metadata": {},
   "outputs": [
    {
     "name": "stdout",
     "output_type": "stream",
     "text": [
      "[{'role': 'user', 'content': 'Describe the purpose and algorithm for this code'}, {'role': 'assistant', 'content': 'This code defines two classes: `Chat` and `CodeInspector`. \\n\\nThe `Chat` class is used to interact with the OpenAI chat API. It has an `ask` method that takes a question as input and returns a response from the API. The `messages` attribute of the class is used to keep track of the conversation history.\\n\\nThe `CodeInspector` class is a subclass of `Chat` and is used to inspect code files. It takes a path to a code file as input and reads the code from the file. It also has a `describe` method that calls the `ask` method of the `Chat` class to ask for a description of the purpose and algorithm of the code. The language of the code is determined based on the file extension and is used to provide a system message at initialization.'}, {'role': 'user', 'content': 'is the code any good?'}, {'role': 'assistant', 'content': 'It\\'s difficult to say whether the code is \"good\" without more context about what it\\'s intended to do and how it\\'s being used. \\n\\nHowever, the code appears to be well-structured and follows best practices for object-oriented programming in Python. It also makes use of the OpenAI API to interact with a chatbot, which is a useful feature for certain applications.\\n\\nThat being said, there may be specific areas for improvement depending on the specific use case and requirements.'}, {'role': 'user', 'content': 'can you give me a short name for this chat'}, {'role': 'assistant', 'content': 'Sure, how about \"CodeChat\"? It\\'s short, easy to remember, and reflects the fact that the chatbot is designed to interact with code.'}, {'role': 'user', 'content': 'give me a short name for this chat that would be an informative and unique key in a database.  Unless this is impossible, just give me the name, nothing else'}, {'role': 'assistant', 'content': 'How about \"CC-OpenAI\"? It includes the abbreviation for \"CodeChat\" and the name of the API being used, making it both informative and unique.'}, {'role': 'user', 'content': 'how should I save the message list for this chat to disk, so that I can load it and pick up where we left off?'}, {'role': 'assistant', 'content': \"One way to save the message list for this chat to disk is by using the `pickle` module in Python. Here's an example of how you can save and load the message list:\\n\\n```python\\nimport pickle\\n\\n# Save the message list to disk\\nwith open('messages.pkl', 'wb') as f:\\n    pickle.dump(messages, f)\\n\\n# Load the message list from disk\\nwith open('messages.pkl', 'rb') as f:\\n    messages = pickle.load(f)\\n```\\n\\nIn this example, the `pickle.dump()` function is used to save the `messages` list to a file named `messages.pkl`. The `wb` argument specifies that the file should be opened in write mode and in binary format.\\n\\nTo load the message list from disk, the `pickle.load()` function is used to read the contents of the `messages.pkl` file into a new variable named `messages`. The `rb` argument specifies that the file should be opened in read mode and in binary format.\"}, {'role': 'user', 'content': 'what if I want to store multiple chats so they can be selected and loaded from a list short descriptions?  a document store database?'}, {'role': 'assistant', 'content': 'If you want to store multiple chats so they can be selected and loaded from a list of short descriptions, you can use a document store database like MongoDB. \\n\\nIn MongoDB, you can create a collection to store the chats, where each document in the collection represents a single chat. Each document can have fields for the chat name, description, and the message list. Here\\'s an example of what a chat document might look like:\\n\\n```json\\n{\\n    \"name\": \"CodeChat\",\\n    \"description\": \"A chatbot for interacting with code\",\\n    \"messages\": [\\n        {\"role\": \"system\", \"content\": \"Welcome to CodeChat!\"},\\n        {\"role\": \"user\", \"content\": \"Can you help me with this code?\"},\\n        {\"role\": \"assistant\", \"content\": \"Sure, what do you need help with?\"}\\n    ]\\n}\\n```\\n\\nTo load a chat from the database, you can query the collection for the chat document based on its name or description. Once you have the document, you can extract the message list and use it to initialize a new instance of the `Chat` or `CodeInspector` class.\\n\\nHere\\'s an example of how you can load a chat from MongoDB using the `pymongo` module in Python:\\n\\n```python\\nimport pymongo\\n\\n# Connect to the MongoDB server\\nclient = pymongo.MongoClient(\\'mongodb://localhost:27017/\\')\\n\\n# Select the database and collection\\ndb = client[\\'my_database\\']\\nchats = db[\\'chats\\']\\n\\n# Query the collection for the chat document\\nchat_doc = chats.find_one({\\'name\\': \\'CodeChat\\'})\\n\\n# Extract the message list from the chat document\\nmessages = chat_doc[\\'messages\\']\\n\\n# Initialize a new instance of the Chat class with the message list\\nchat = Chat()\\nchat.messages = messages\\n```'}, {'role': 'user', 'content': \"I'm not sure I can setup a mongodb database on my laptop, because I don't have admin rights.  Would tinydb do the same thing?\"}, {'role': 'assistant', 'content': 'Yes, `tinydb` can be used as a lightweight alternative to MongoDB for storing chat data on a local machine. \\n\\n`tinydb` is a document-oriented database that stores data in JSON format, making it easy to read and write data to disk. It can be used to store multiple chats in a single file, with each chat represented as a separate document in the database.\\n\\nHere\\'s an example of how you can use `tinydb` to store and load chat data:\\n\\n```python\\nfrom tinydb import TinyDB, Query\\n\\n# Create a new database file\\ndb = TinyDB(\\'chats.json\\')\\n\\n# Insert a new chat document into the database\\nchat_doc = {\\n    \"name\": \"CodeChat\",\\n    \"description\": \"A chatbot for interacting with code\",\\n    \"messages\": [\\n        {\"role\": \"system\", \"content\": \"Welcome to CodeChat!\"},\\n        {\"role\": \"user\", \"content\": \"Can you help me with this code?\"},\\n        {\"role\": \"assistant\", \"content\": \"Sure, what do you need help with?\"}\\n    ]\\n}\\ndb.insert(chat_doc)\\n\\n# Query the database for the chat document\\nChat = Query()\\nchat_doc = db.get(Chat.name == \\'CodeChat\\')\\n\\n# Extract the message list from the chat document\\nmessages = chat_doc[\\'messages\\']\\n\\n# Initialize a new instance of the Chat class with the message list\\nchat = Chat()\\nchat.messages = messages\\n```\\n\\nIn this example, a new `TinyDB` object is created with a filename of `chats.json`. A new chat document is inserted into the database using the `insert()` method.\\n\\nTo load a chat from the database, the `get()` method is used to query the database for the chat document based on its name. Once the document is retrieved, the message list is extracted and used to initialize a new instance of the `Chat` or `CodeInspector` class.'}]\n"
     ]
    }
   ],
   "source": [
    "print(chat.messages[2:])"
   ]
  },
  {
   "cell_type": "code",
   "execution_count": 6,
   "metadata": {},
   "outputs": [
    {
     "name": "stdout",
     "output_type": "stream",
     "text": [
      "[{'content': 'Describe the purpose and algorithm for this code',\n",
      "  'role': 'user'},\n",
      " {'content': 'This code defines two classes: `Chat` and `CodeInspector`. \\n'\n",
      "             '\\n'\n",
      "             'The `Chat` class is used to interact with the OpenAI chat API. '\n",
      "             'It has an `ask` method that takes a question as input and '\n",
      "             'returns a response from the API. The `messages` attribute of the '\n",
      "             'class is used to keep track of the conversation history.\\n'\n",
      "             '\\n'\n",
      "             'The `CodeInspector` class is a subclass of `Chat` and is used to '\n",
      "             'inspect code files. It takes a path to a code file as input and '\n",
      "             'reads the code from the file. It also has a `describe` method '\n",
      "             'that calls the `ask` method of the `Chat` class to ask for a '\n",
      "             'description of the purpose and algorithm of the code. The '\n",
      "             'language of the code is determined based on the file extension '\n",
      "             'and is used to provide a system message at initialization.',\n",
      "  'role': 'assistant'},\n",
      " {'content': 'is the code any good?', 'role': 'user'},\n",
      " {'content': 'It\\'s difficult to say whether the code is \"good\" without more '\n",
      "             \"context about what it's intended to do and how it's being \"\n",
      "             'used. \\n'\n",
      "             '\\n'\n",
      "             'However, the code appears to be well-structured and follows best '\n",
      "             'practices for object-oriented programming in Python. It also '\n",
      "             'makes use of the OpenAI API to interact with a chatbot, which is '\n",
      "             'a useful feature for certain applications.\\n'\n",
      "             '\\n'\n",
      "             'That being said, there may be specific areas for improvement '\n",
      "             'depending on the specific use case and requirements.',\n",
      "  'role': 'assistant'},\n",
      " {'content': 'can you give me a short name for this chat', 'role': 'user'},\n",
      " {'content': 'Sure, how about \"CodeChat\"? It\\'s short, easy to remember, and '\n",
      "             'reflects the fact that the chatbot is designed to interact with '\n",
      "             'code.',\n",
      "  'role': 'assistant'},\n",
      " {'content': 'give me a short name for this chat that would be an informative '\n",
      "             'and unique key in a database.  Unless this is impossible, just '\n",
      "             'give me the name, nothing else',\n",
      "  'role': 'user'},\n",
      " {'content': 'How about \"CC-OpenAI\"? It includes the abbreviation for '\n",
      "             '\"CodeChat\" and the name of the API being used, making it both '\n",
      "             'informative and unique.',\n",
      "  'role': 'assistant'},\n",
      " {'content': 'how should I save the message list for this chat to disk, so '\n",
      "             'that I can load it and pick up where we left off?',\n",
      "  'role': 'user'},\n",
      " {'content': 'One way to save the message list for this chat to disk is by '\n",
      "             \"using the `pickle` module in Python. Here's an example of how \"\n",
      "             'you can save and load the message list:\\n'\n",
      "             '\\n'\n",
      "             '```python\\n'\n",
      "             'import pickle\\n'\n",
      "             '\\n'\n",
      "             '# Save the message list to disk\\n'\n",
      "             \"with open('messages.pkl', 'wb') as f:\\n\"\n",
      "             '    pickle.dump(messages, f)\\n'\n",
      "             '\\n'\n",
      "             '# Load the message list from disk\\n'\n",
      "             \"with open('messages.pkl', 'rb') as f:\\n\"\n",
      "             '    messages = pickle.load(f)\\n'\n",
      "             '```\\n'\n",
      "             '\\n'\n",
      "             'In this example, the `pickle.dump()` function is used to save '\n",
      "             'the `messages` list to a file named `messages.pkl`. The `wb` '\n",
      "             'argument specifies that the file should be opened in write mode '\n",
      "             'and in binary format.\\n'\n",
      "             '\\n'\n",
      "             'To load the message list from disk, the `pickle.load()` function '\n",
      "             'is used to read the contents of the `messages.pkl` file into a '\n",
      "             'new variable named `messages`. The `rb` argument specifies that '\n",
      "             'the file should be opened in read mode and in binary format.',\n",
      "  'role': 'assistant'},\n",
      " {'content': 'what if I want to store multiple chats so they can be selected '\n",
      "             'and loaded from a list short descriptions?  a document store '\n",
      "             'database?',\n",
      "  'role': 'user'},\n",
      " {'content': 'If you want to store multiple chats so they can be selected and '\n",
      "             'loaded from a list of short descriptions, you can use a document '\n",
      "             'store database like MongoDB. \\n'\n",
      "             '\\n'\n",
      "             'In MongoDB, you can create a collection to store the chats, '\n",
      "             'where each document in the collection represents a single chat. '\n",
      "             'Each document can have fields for the chat name, description, '\n",
      "             \"and the message list. Here's an example of what a chat document \"\n",
      "             'might look like:\\n'\n",
      "             '\\n'\n",
      "             '```json\\n'\n",
      "             '{\\n'\n",
      "             '    \"name\": \"CodeChat\",\\n'\n",
      "             '    \"description\": \"A chatbot for interacting with code\",\\n'\n",
      "             '    \"messages\": [\\n'\n",
      "             '        {\"role\": \"system\", \"content\": \"Welcome to CodeChat!\"},\\n'\n",
      "             '        {\"role\": \"user\", \"content\": \"Can you help me with this '\n",
      "             'code?\"},\\n'\n",
      "             '        {\"role\": \"assistant\", \"content\": \"Sure, what do you need '\n",
      "             'help with?\"}\\n'\n",
      "             '    ]\\n'\n",
      "             '}\\n'\n",
      "             '```\\n'\n",
      "             '\\n'\n",
      "             'To load a chat from the database, you can query the collection '\n",
      "             'for the chat document based on its name or description. Once you '\n",
      "             'have the document, you can extract the message list and use it '\n",
      "             'to initialize a new instance of the `Chat` or `CodeInspector` '\n",
      "             'class.\\n'\n",
      "             '\\n'\n",
      "             \"Here's an example of how you can load a chat from MongoDB using \"\n",
      "             'the `pymongo` module in Python:\\n'\n",
      "             '\\n'\n",
      "             '```python\\n'\n",
      "             'import pymongo\\n'\n",
      "             '\\n'\n",
      "             '# Connect to the MongoDB server\\n'\n",
      "             \"client = pymongo.MongoClient('mongodb://localhost:27017/')\\n\"\n",
      "             '\\n'\n",
      "             '# Select the database and collection\\n'\n",
      "             \"db = client['my_database']\\n\"\n",
      "             \"chats = db['chats']\\n\"\n",
      "             '\\n'\n",
      "             '# Query the collection for the chat document\\n'\n",
      "             \"chat_doc = chats.find_one({'name': 'CodeChat'})\\n\"\n",
      "             '\\n'\n",
      "             '# Extract the message list from the chat document\\n'\n",
      "             \"messages = chat_doc['messages']\\n\"\n",
      "             '\\n'\n",
      "             '# Initialize a new instance of the Chat class with the message '\n",
      "             'list\\n'\n",
      "             'chat = Chat()\\n'\n",
      "             'chat.messages = messages\\n'\n",
      "             '```',\n",
      "  'role': 'assistant'},\n",
      " {'content': \"I'm not sure I can setup a mongodb database on my laptop, \"\n",
      "             \"because I don't have admin rights.  Would tinydb do the same \"\n",
      "             'thing?',\n",
      "  'role': 'user'},\n",
      " {'content': 'Yes, `tinydb` can be used as a lightweight alternative to '\n",
      "             'MongoDB for storing chat data on a local machine. \\n'\n",
      "             '\\n'\n",
      "             '`tinydb` is a document-oriented database that stores data in '\n",
      "             'JSON format, making it easy to read and write data to disk. It '\n",
      "             'can be used to store multiple chats in a single file, with each '\n",
      "             'chat represented as a separate document in the database.\\n'\n",
      "             '\\n'\n",
      "             \"Here's an example of how you can use `tinydb` to store and load \"\n",
      "             'chat data:\\n'\n",
      "             '\\n'\n",
      "             '```python\\n'\n",
      "             'from tinydb import TinyDB, Query\\n'\n",
      "             '\\n'\n",
      "             '# Create a new database file\\n'\n",
      "             \"db = TinyDB('chats.json')\\n\"\n",
      "             '\\n'\n",
      "             '# Insert a new chat document into the database\\n'\n",
      "             'chat_doc = {\\n'\n",
      "             '    \"name\": \"CodeChat\",\\n'\n",
      "             '    \"description\": \"A chatbot for interacting with code\",\\n'\n",
      "             '    \"messages\": [\\n'\n",
      "             '        {\"role\": \"system\", \"content\": \"Welcome to CodeChat!\"},\\n'\n",
      "             '        {\"role\": \"user\", \"content\": \"Can you help me with this '\n",
      "             'code?\"},\\n'\n",
      "             '        {\"role\": \"assistant\", \"content\": \"Sure, what do you need '\n",
      "             'help with?\"}\\n'\n",
      "             '    ]\\n'\n",
      "             '}\\n'\n",
      "             'db.insert(chat_doc)\\n'\n",
      "             '\\n'\n",
      "             '# Query the database for the chat document\\n'\n",
      "             'Chat = Query()\\n'\n",
      "             \"chat_doc = db.get(Chat.name == 'CodeChat')\\n\"\n",
      "             '\\n'\n",
      "             '# Extract the message list from the chat document\\n'\n",
      "             \"messages = chat_doc['messages']\\n\"\n",
      "             '\\n'\n",
      "             '# Initialize a new instance of the Chat class with the message '\n",
      "             'list\\n'\n",
      "             'chat = Chat()\\n'\n",
      "             'chat.messages = messages\\n'\n",
      "             '```\\n'\n",
      "             '\\n'\n",
      "             'In this example, a new `TinyDB` object is created with a '\n",
      "             'filename of `chats.json`. A new chat document is inserted into '\n",
      "             'the database using the `insert()` method.\\n'\n",
      "             '\\n'\n",
      "             'To load a chat from the database, the `get()` method is used to '\n",
      "             'query the database for the chat document based on its name. Once '\n",
      "             'the document is retrieved, the message list is extracted and '\n",
      "             'used to initialize a new instance of the `Chat` or '\n",
      "             '`CodeInspector` class.',\n",
      "  'role': 'assistant'}]\n"
     ]
    }
   ],
   "source": [
    "import pprint\n",
    "\n",
    "pprint.pprint(chat.messages[2:])"
   ]
  },
  {
   "cell_type": "code",
   "execution_count": 27,
   "metadata": {},
   "outputs": [],
   "source": [
    "a = chat.ask('Answering only in a json list, give me the three most descriptive one word topics for this chat, with no introduction or explanation', temperature = 0.2, max_tokens=40, keep=False)"
   ]
  },
  {
   "cell_type": "code",
   "execution_count": 28,
   "metadata": {},
   "outputs": [
    {
     "data": {
      "text/plain": [
       "'Here are the three most descriptive one-word topics for this chat in a JSON list:\\n\\n```json\\n[\"code\", \"chatbot\", \"AI\"]\\n```'"
      ]
     },
     "execution_count": 28,
     "metadata": {},
     "output_type": "execute_result"
    }
   ],
   "source": [
    "a\n"
   ]
  },
  {
   "cell_type": "code",
   "execution_count": 29,
   "metadata": {},
   "outputs": [
    {
     "data": {
      "text/plain": [
       "'json\\n[\"code\", \"chatbot\", \"AI\"]\\n```'"
      ]
     },
     "execution_count": 29,
     "metadata": {},
     "output_type": "execute_result"
    }
   ],
   "source": [
    "a[a.index('json'):]"
   ]
  },
  {
   "cell_type": "code",
   "execution_count": 30,
   "metadata": {},
   "outputs": [],
   "source": [
    "import json"
   ]
  },
  {
   "cell_type": "code",
   "execution_count": 34,
   "metadata": {},
   "outputs": [
    {
     "data": {
      "text/plain": [
       "['code', 'chatbot', 'AI']"
      ]
     },
     "execution_count": 34,
     "metadata": {},
     "output_type": "execute_result"
    }
   ],
   "source": [
    "json.loads(a[a.index('['):a.index(']')+1])"
   ]
  },
  {
   "cell_type": "code",
   "execution_count": 15,
   "metadata": {},
   "outputs": [
    {
     "name": "stdout",
     "output_type": "stream",
     "text": [
      "\"chatlog.pkl\"\n"
     ]
    }
   ],
   "source": [
    "chat.ask('what is a good filename to save this chat to. only say the filename - no explanation')"
   ]
  },
  {
   "cell_type": "code",
   "execution_count": 3,
   "metadata": {},
   "outputs": [
    {
     "name": "stdout",
     "output_type": "stream",
     "text": [
      "{'role': 'assistant', 'content': 'Yes, `tinydb` can be used as a lightweight alternative to MongoDB for storing chat data on a local machine. \\n\\n`tinydb` is a document-oriented database that stores data in JSON format, making it easy to read and write data to disk. It can be used to store multiple chats in a single file, with each chat represented as a separate document in the database.\\n\\nHere\\'s an example of how you can use `tinydb` to store and load chat data:\\n\\n```python\\nfrom tinydb import TinyDB, Query\\n\\n# Create a new database file\\ndb = TinyDB(\\'chats.json\\')\\n\\n# Insert a new chat document into the database\\nchat_doc = {\\n    \"name\": \"CodeChat\",\\n    \"description\": \"A chatbot for interacting with code\",\\n    \"messages\": [\\n        {\"role\": \"system\", \"content\": \"Welcome to CodeChat!\"},\\n        {\"role\": \"user\", \"content\": \"Can you help me with this code?\"},\\n        {\"role\": \"assistant\", \"content\": \"Sure, what do you need help with?\"}\\n    ]\\n}\\ndb.insert(chat_doc)\\n\\n# Query the database for the chat document\\nChat = Query()\\nchat_doc = db.get(Chat.name == \\'CodeChat\\')\\n\\n# Extract the message list from the chat document\\nmessages = chat_doc[\\'messages\\']\\n\\n# Initialize a new instance of the Chat class with the message list\\nchat = Chat()\\nchat.messages = messages\\n```\\n\\nIn this example, a new `TinyDB` object is created with a filename of `chats.json`. A new chat document is inserted into the database using the `insert()` method.\\n\\nTo load a chat from the database, the `get()` method is used to query the database for the chat document based on its name. Once the document is retrieved, the message list is extracted and used to initialize a new instance of the `Chat` or `CodeInspector` class.'}\n"
     ]
    }
   ],
   "source": [
    "print(chat.messages[-1])"
   ]
  },
  {
   "cell_type": "code",
   "execution_count": 2,
   "metadata": {},
   "outputs": [],
   "source": [
    "cd = CodeInspector('../aipy/ai.py')\n",
    "cd.describe()"
   ]
  },
  {
   "cell_type": "code",
   "execution_count": 4,
   "metadata": {},
   "outputs": [
    {
     "name": "stdout",
     "output_type": "stream",
     "text": [
      "{'role': 'assistant', 'content': 'This code defines two classes: `Chat` and `CodeInspector`. \\n\\nThe `Chat` class is used to interact with the OpenAI chat API. It has an `ask` method that takes a question as input and returns a response from the API. The `messages` attribute of the class is used to keep track of the conversation history.\\n\\nThe `CodeInspector` class is a subclass of `Chat` and is used to inspect code files. It takes a path to a code file as input and reads the code from the file. It also has a `describe` method that calls the `ask` method of the `Chat` class to ask for a description of the purpose and algorithm of the code. The language of the code is determined based on the file extension and is used to provide a system message at initialization.'}\n"
     ]
    }
   ],
   "source": [
    "print(cd.messages[-1])\n"
   ]
  },
  {
   "cell_type": "code",
   "execution_count": 5,
   "metadata": {},
   "outputs": [
    {
     "data": {
      "text/plain": [
       "<OpenAIObject chat.completion id=chatcmpl-7K1VfNreSj4UO5TfENp9PzHWYXDG4 at 0x1cb64659400> JSON: {\n",
       "  \"choices\": [\n",
       "    {\n",
       "      \"finish_reason\": \"stop\",\n",
       "      \"index\": 0,\n",
       "      \"message\": {\n",
       "        \"content\": \"It's difficult to say whether the code is \\\"good\\\" without more context about what it's intended to do and how it's being used. \\n\\nHowever, the code appears to be well-structured and follows best practices for object-oriented programming in Python. It also makes use of the OpenAI API to interact with a chatbot, which is a useful feature for certain applications.\\n\\nThat being said, there may be specific areas for improvement depending on the specific use case and requirements.\",\n",
       "        \"role\": \"assistant\"\n",
       "      }\n",
       "    }\n",
       "  ],\n",
       "  \"created\": 1685006719,\n",
       "  \"id\": \"chatcmpl-7K1VfNreSj4UO5TfENp9PzHWYXDG4\",\n",
       "  \"model\": \"gpt-3.5-turbo-0301\",\n",
       "  \"object\": \"chat.completion\",\n",
       "  \"usage\": {\n",
       "    \"completion_tokens\": 96,\n",
       "    \"prompt_tokens\": 582,\n",
       "    \"total_tokens\": 678\n",
       "  }\n",
       "}"
      ]
     },
     "execution_count": 5,
     "metadata": {},
     "output_type": "execute_result"
    }
   ],
   "source": [
    "cd.ask('is the code any good?')"
   ]
  },
  {
   "cell_type": "code",
   "execution_count": 7,
   "metadata": {},
   "outputs": [
    {
     "data": {
      "text/plain": [
       "<OpenAIObject chat.completion id=chatcmpl-7K1cjfp0UoGH3GK8d0SqsS9pdiBCb at 0x1cb64681220> JSON: {\n",
       "  \"choices\": [\n",
       "    {\n",
       "      \"finish_reason\": \"stop\",\n",
       "      \"index\": 0,\n",
       "      \"message\": {\n",
       "        \"content\": \"How about \\\"CC-OpenAI\\\"? It includes the abbreviation for \\\"CodeChat\\\" and the name of the API being used, making it both informative and unique.\",\n",
       "        \"role\": \"assistant\"\n",
       "      }\n",
       "    }\n",
       "  ],\n",
       "  \"created\": 1685007157,\n",
       "  \"id\": \"chatcmpl-7K1cjfp0UoGH3GK8d0SqsS9pdiBCb\",\n",
       "  \"model\": \"gpt-3.5-turbo-0301\",\n",
       "  \"object\": \"chat.completion\",\n",
       "  \"usage\": {\n",
       "    \"completion_tokens\": 33,\n",
       "    \"prompt_tokens\": 773,\n",
       "    \"total_tokens\": 806\n",
       "  }\n",
       "}"
      ]
     },
     "execution_count": 7,
     "metadata": {},
     "output_type": "execute_result"
    }
   ],
   "source": [
    "cd.ask('give me a short name for this chat that would be an informative and unique key in a database.  Unless this is impossible, just give me the name, nothing else')"
   ]
  },
  {
   "cell_type": "code",
   "execution_count": 8,
   "metadata": {},
   "outputs": [
    {
     "data": {
      "text/plain": [
       "<OpenAIObject chat.completion id=chatcmpl-7K1h4oorjnj4GbKFUTkiFtOfCOFc9 at 0x1cb7c08df40> JSON: {\n",
       "  \"choices\": [\n",
       "    {\n",
       "      \"finish_reason\": \"stop\",\n",
       "      \"index\": 0,\n",
       "      \"message\": {\n",
       "        \"content\": \"One way to save the message list for this chat to disk is by using the `pickle` module in Python. Here's an example of how you can save and load the message list:\\n\\n```python\\nimport pickle\\n\\n# Save the message list to disk\\nwith open('messages.pkl', 'wb') as f:\\n    pickle.dump(messages, f)\\n\\n# Load the message list from disk\\nwith open('messages.pkl', 'rb') as f:\\n    messages = pickle.load(f)\\n```\\n\\nIn this example, the `pickle.dump()` function is used to save the `messages` list to a file named `messages.pkl`. The `wb` argument specifies that the file should be opened in write mode and in binary format.\\n\\nTo load the message list from disk, the `pickle.load()` function is used to read the contents of the `messages.pkl` file into a new variable named `messages`. The `rb` argument specifies that the file should be opened in read mode and in binary format.\",\n",
       "        \"role\": \"assistant\"\n",
       "      }\n",
       "    }\n",
       "  ],\n",
       "  \"created\": 1685007426,\n",
       "  \"id\": \"chatcmpl-7K1h4oorjnj4GbKFUTkiFtOfCOFc9\",\n",
       "  \"model\": \"gpt-3.5-turbo-0301\",\n",
       "  \"object\": \"chat.completion\",\n",
       "  \"usage\": {\n",
       "    \"completion_tokens\": 202,\n",
       "    \"prompt_tokens\": 843,\n",
       "    \"total_tokens\": 1045\n",
       "  }\n",
       "}"
      ]
     },
     "execution_count": 8,
     "metadata": {},
     "output_type": "execute_result"
    }
   ],
   "source": [
    "cd.ask('how should I save the message list for this chat to disk, so that I can load it and pick up where we left off?')"
   ]
  },
  {
   "cell_type": "code",
   "execution_count": 9,
   "metadata": {},
   "outputs": [
    {
     "data": {
      "text/plain": [
       "<OpenAIObject chat.completion id=chatcmpl-7K1kxS8SKQpsxEQDD3zrJzsOSxh1Z at 0x1cb7c079a40> JSON: {\n",
       "  \"choices\": [\n",
       "    {\n",
       "      \"finish_reason\": \"stop\",\n",
       "      \"index\": 0,\n",
       "      \"message\": {\n",
       "        \"content\": \"If you want to store multiple chats so they can be selected and loaded from a list of short descriptions, you can use a document store database like MongoDB. \\n\\nIn MongoDB, you can create a collection to store the chats, where each document in the collection represents a single chat. Each document can have fields for the chat name, description, and the message list. Here's an example of what a chat document might look like:\\n\\n```json\\n{\\n    \\\"name\\\": \\\"CodeChat\\\",\\n    \\\"description\\\": \\\"A chatbot for interacting with code\\\",\\n    \\\"messages\\\": [\\n        {\\\"role\\\": \\\"system\\\", \\\"content\\\": \\\"Welcome to CodeChat!\\\"},\\n        {\\\"role\\\": \\\"user\\\", \\\"content\\\": \\\"Can you help me with this code?\\\"},\\n        {\\\"role\\\": \\\"assistant\\\", \\\"content\\\": \\\"Sure, what do you need help with?\\\"}\\n    ]\\n}\\n```\\n\\nTo load a chat from the database, you can query the collection for the chat document based on its name or description. Once you have the document, you can extract the message list and use it to initialize a new instance of the `Chat` or `CodeInspector` class.\\n\\nHere's an example of how you can load a chat from MongoDB using the `pymongo` module in Python:\\n\\n```python\\nimport pymongo\\n\\n# Connect to the MongoDB server\\nclient = pymongo.MongoClient('mongodb://localhost:27017/')\\n\\n# Select the database and collection\\ndb = client['my_database']\\nchats = db['chats']\\n\\n# Query the collection for the chat document\\nchat_doc = chats.find_one({'name': 'CodeChat'})\\n\\n# Extract the message list from the chat document\\nmessages = chat_doc['messages']\\n\\n# Initialize a new instance of the Chat class with the message list\\nchat = Chat()\\nchat.messages = messages\\n```\",\n",
       "        \"role\": \"assistant\"\n",
       "      }\n",
       "    }\n",
       "  ],\n",
       "  \"created\": 1685007667,\n",
       "  \"id\": \"chatcmpl-7K1kxS8SKQpsxEQDD3zrJzsOSxh1Z\",\n",
       "  \"model\": \"gpt-3.5-turbo-0301\",\n",
       "  \"object\": \"chat.completion\",\n",
       "  \"usage\": {\n",
       "    \"completion_tokens\": 371,\n",
       "    \"prompt_tokens\": 1082,\n",
       "    \"total_tokens\": 1453\n",
       "  }\n",
       "}"
      ]
     },
     "execution_count": 9,
     "metadata": {},
     "output_type": "execute_result"
    }
   ],
   "source": [
    "cd.ask('what if I want to store multiple chats so they can be selected and loaded from a list short descriptions?  a document store database?')"
   ]
  },
  {
   "cell_type": "code",
   "execution_count": 10,
   "metadata": {},
   "outputs": [
    {
     "data": {
      "text/plain": [
       "<OpenAIObject chat.completion id=chatcmpl-7K1qxS0XC1PuIxlKYPz4yIPpV0ptH at 0x1cb7c087400> JSON: {\n",
       "  \"choices\": [\n",
       "    {\n",
       "      \"finish_reason\": \"stop\",\n",
       "      \"index\": 0,\n",
       "      \"message\": {\n",
       "        \"content\": \"Yes, `tinydb` can be used as a lightweight alternative to MongoDB for storing chat data on a local machine. \\n\\n`tinydb` is a document-oriented database that stores data in JSON format, making it easy to read and write data to disk. It can be used to store multiple chats in a single file, with each chat represented as a separate document in the database.\\n\\nHere's an example of how you can use `tinydb` to store and load chat data:\\n\\n```python\\nfrom tinydb import TinyDB, Query\\n\\n# Create a new database file\\ndb = TinyDB('chats.json')\\n\\n# Insert a new chat document into the database\\nchat_doc = {\\n    \\\"name\\\": \\\"CodeChat\\\",\\n    \\\"description\\\": \\\"A chatbot for interacting with code\\\",\\n    \\\"messages\\\": [\\n        {\\\"role\\\": \\\"system\\\", \\\"content\\\": \\\"Welcome to CodeChat!\\\"},\\n        {\\\"role\\\": \\\"user\\\", \\\"content\\\": \\\"Can you help me with this code?\\\"},\\n        {\\\"role\\\": \\\"assistant\\\", \\\"content\\\": \\\"Sure, what do you need help with?\\\"}\\n    ]\\n}\\ndb.insert(chat_doc)\\n\\n# Query the database for the chat document\\nChat = Query()\\nchat_doc = db.get(Chat.name == 'CodeChat')\\n\\n# Extract the message list from the chat document\\nmessages = chat_doc['messages']\\n\\n# Initialize a new instance of the Chat class with the message list\\nchat = Chat()\\nchat.messages = messages\\n```\\n\\nIn this example, a new `TinyDB` object is created with a filename of `chats.json`. A new chat document is inserted into the database using the `insert()` method.\\n\\nTo load a chat from the database, the `get()` method is used to query the database for the chat document based on its name. Once the document is retrieved, the message list is extracted and used to initialize a new instance of the `Chat` or `CodeInspector` class.\",\n",
       "        \"role\": \"assistant\"\n",
       "      }\n",
       "    }\n",
       "  ],\n",
       "  \"created\": 1685008039,\n",
       "  \"id\": \"chatcmpl-7K1qxS0XC1PuIxlKYPz4yIPpV0ptH\",\n",
       "  \"model\": \"gpt-3.5-turbo-0301\",\n",
       "  \"object\": \"chat.completion\",\n",
       "  \"usage\": {\n",
       "    \"completion_tokens\": 394,\n",
       "    \"prompt_tokens\": 1494,\n",
       "    \"total_tokens\": 1888\n",
       "  }\n",
       "}"
      ]
     },
     "execution_count": 10,
     "metadata": {},
     "output_type": "execute_result"
    }
   ],
   "source": [
    "cd.ask(\"I'm not sure I can setup a mongodb database on my laptop, because I don't have admin rights.  Would tinydb do the same thing?\")"
   ]
  },
  {
   "cell_type": "code",
   "execution_count": 12,
   "metadata": {},
   "outputs": [],
   "source": [
    "import pickle\n",
    "with open('codechat.pickle', 'wb') as f:\n",
    "    pickle.dump(cd.messages, f)\n"
   ]
  },
  {
   "cell_type": "code",
   "execution_count": 2,
   "metadata": {},
   "outputs": [
    {
     "name": "stdout",
     "output_type": "stream",
     "text": [
      "Help on built-in function dump in module _pickle:\n",
      "\n",
      "dump(obj, file, protocol=None, *, fix_imports=True, buffer_callback=None)\n",
      "    Write a pickled representation of obj to the open file object file.\n",
      "    \n",
      "    This is equivalent to ``Pickler(file, protocol).dump(obj)``, but may\n",
      "    be more efficient.\n",
      "    \n",
      "    The optional *protocol* argument tells the pickler to use the given\n",
      "    protocol; supported protocols are 0, 1, 2, 3 and 4.  The default\n",
      "    protocol is 4. It was introduced in Python 3.4, it is incompatible\n",
      "    with previous versions.\n",
      "    \n",
      "    Specifying a negative protocol version selects the highest protocol\n",
      "    version supported.  The higher the protocol used, the more recent the\n",
      "    version of Python needed to read the pickle produced.\n",
      "    \n",
      "    The *file* argument must have a write() method that accepts a single\n",
      "    bytes argument.  It can thus be a file object opened for binary\n",
      "    writing, an io.BytesIO instance, or any other custom object that meets\n",
      "    this interface.\n",
      "    \n",
      "    If *fix_imports* is True and protocol is less than 3, pickle will try\n",
      "    to map the new Python 3 names to the old module names used in Python\n",
      "    2, so that the pickle data stream is readable with Python 2.\n",
      "    \n",
      "    If *buffer_callback* is None (the default), buffer views are serialized\n",
      "    into *file* as part of the pickle stream.  It is an error if\n",
      "    *buffer_callback* is not None and *protocol* is None or smaller than 5.\n",
      "\n"
     ]
    }
   ],
   "source": [
    "import pickle\n",
    "help(pickle.dump)\n"
   ]
  },
  {
   "attachments": {},
   "cell_type": "markdown",
   "metadata": {},
   "source": []
  }
 ],
 "metadata": {
  "kernelspec": {
   "display_name": "Python 3",
   "language": "python",
   "name": "python3"
  },
  "language_info": {
   "codemirror_mode": {
    "name": "ipython",
    "version": 3
   },
   "file_extension": ".py",
   "mimetype": "text/x-python",
   "name": "python",
   "nbconvert_exporter": "python",
   "pygments_lexer": "ipython3",
   "version": "3.8.0"
  },
  "orig_nbformat": 4
 },
 "nbformat": 4,
 "nbformat_minor": 2
}

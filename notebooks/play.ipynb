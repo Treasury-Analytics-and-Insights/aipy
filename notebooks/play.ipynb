{
 "cells": [
  {
   "cell_type": "code",
   "execution_count": 1,
   "metadata": {},
   "outputs": [],
   "source": [
    "import sys\n",
    "sys.path.append('..')\n",
    "from aipy.ai import *\n"
   ]
  },
  {
   "cell_type": "code",
   "execution_count": 3,
   "metadata": {},
   "outputs": [
    {
     "name": "stdout",
     "output_type": "stream",
     "text": [
      "This code defines three functions that use the OpenAI GPT-3 language model to generate text based on user input. \n",
      "\n",
      "The `gptchat` function takes in a list of messages and a maximum number of tokens, and uses the OpenAI API to generate a response to the messages. The response is printed and returned.\n",
      "\n",
      "The `describe_code` function takes in a path to a code file, a question (which defaults to \"Describe the purpose and algorithm for this code\"), and a maximum number of tokens. It reads the code from the file, creates a message list with a system message indicating the language of the code and a user message with the question and code, and passes the message list and maximum tokens to `gptchat`. The response from `gptchat` is returned.\n",
      "\n",
      "The `ask_gpt` function takes in a question and uses `gptchat` to generate a response. The response is returned.\n",
      "\n",
      "Overall, these functions allow a user to interact with the GPT-3 language model to generate text based on input messages. The `describe_code` function specifically allows a user to generate a description of a code file.\n"
     ]
    }
   ],
   "source": [
    "answer = describe_code('../aipy/ai.py')"
   ]
  },
  {
   "cell_type": "code",
   "execution_count": 4,
   "metadata": {},
   "outputs": [
    {
     "data": {
      "text/plain": [
       "<OpenAIObject chat.completion id=chatcmpl-7BU3UlzgkwsEtpxCAlKBes6jjcAjI at 0x17203fd2090> JSON: {\n",
       "  \"choices\": [\n",
       "    {\n",
       "      \"finish_reason\": \"stop\",\n",
       "      \"index\": 0,\n",
       "      \"message\": {\n",
       "        \"content\": \"This code defines three functions that use the OpenAI GPT-3 language model to generate text based on user input. \\n\\nThe `gptchat` function takes in a list of messages and a maximum number of tokens, and uses the OpenAI API to generate a response to the messages. The response is printed and returned.\\n\\nThe `describe_code` function takes in a path to a code file, a question (which defaults to \\\"Describe the purpose and algorithm for this code\\\"), and a maximum number of tokens. It reads the code from the file, creates a message list with a system message indicating the language of the code and a user message with the question and code, and passes the message list and maximum tokens to `gptchat`. The response from `gptchat` is returned.\\n\\nThe `ask_gpt` function takes in a question and uses `gptchat` to generate a response. The response is returned.\\n\\nOverall, these functions allow a user to interact with the GPT-3 language model to generate text based on input messages. The `describe_code` function specifically allows a user to generate a description of a code file.\",\n",
       "        \"role\": \"assistant\"\n",
       "      }\n",
       "    }\n",
       "  ],\n",
       "  \"created\": 1682971496,\n",
       "  \"id\": \"chatcmpl-7BU3UlzgkwsEtpxCAlKBes6jjcAjI\",\n",
       "  \"model\": \"gpt-3.5-turbo-0301\",\n",
       "  \"object\": \"chat.completion\",\n",
       "  \"usage\": {\n",
       "    \"completion_tokens\": 233,\n",
       "    \"prompt_tokens\": 316,\n",
       "    \"total_tokens\": 549\n",
       "  }\n",
       "}"
      ]
     },
     "execution_count": 4,
     "metadata": {},
     "output_type": "execute_result"
    }
   ],
   "source": [
    "answer"
   ]
  },
  {
   "cell_type": "code",
   "execution_count": 33,
   "metadata": {},
   "outputs": [
    {
     "data": {
      "text/plain": [
       "0.17568"
      ]
     },
     "execution_count": 33,
     "metadata": {},
     "output_type": "execute_result"
    }
   ],
   "source": [
    "answer[\"usage\"][\"total_tokens\"]*0.0032/10"
   ]
  },
  {
   "cell_type": "code",
   "execution_count": 11,
   "metadata": {},
   "outputs": [
    {
     "name": "stdout",
     "output_type": "stream",
     "text": [
      "The mean sea level is rising primarily due to global warming, which is caused by the increase in greenhouse gases in the atmosphere. This increase in temperature is causing the melting of glaciers and sea ice, as well as the thermal expansion of sea water.\n",
      "\n",
      "Both glacier and sea ice melt and thermal expansion of sea water are important factors contributing to the rise in sea level. However, the contribution of thermal expansion is greater than that of glacier and sea ice melt. This is because water expands as it warms, and the oceans have absorbed a significant amount of the excess heat trapped by greenhouse gases. This thermal expansion is responsible for about half of the observed sea level rise over the past century.\n"
     ]
    },
    {
     "data": {
      "text/plain": [
       "<OpenAIObject chat.completion id=chatcmpl-7BUQ3REyS8j18bTo5vLKVK3Qpe0FK at 0x17201074a90> JSON: {\n",
       "  \"choices\": [\n",
       "    {\n",
       "      \"finish_reason\": \"stop\",\n",
       "      \"index\": 0,\n",
       "      \"message\": {\n",
       "        \"content\": \"The mean sea level is rising primarily due to global warming, which is caused by the increase in greenhouse gases in the atmosphere. This increase in temperature is causing the melting of glaciers and sea ice, as well as the thermal expansion of sea water.\\n\\nBoth glacier and sea ice melt and thermal expansion of sea water are important factors contributing to the rise in sea level. However, the contribution of thermal expansion is greater than that of glacier and sea ice melt. This is because water expands as it warms, and the oceans have absorbed a significant amount of the excess heat trapped by greenhouse gases. This thermal expansion is responsible for about half of the observed sea level rise over the past century.\",\n",
       "        \"role\": \"assistant\"\n",
       "      }\n",
       "    }\n",
       "  ],\n",
       "  \"created\": 1682972895,\n",
       "  \"id\": \"chatcmpl-7BUQ3REyS8j18bTo5vLKVK3Qpe0FK\",\n",
       "  \"model\": \"gpt-3.5-turbo-0301\",\n",
       "  \"object\": \"chat.completion\",\n",
       "  \"usage\": {\n",
       "    \"completion_tokens\": 136,\n",
       "    \"prompt_tokens\": 45,\n",
       "    \"total_tokens\": 181\n",
       "  }\n",
       "}"
      ]
     },
     "execution_count": 11,
     "metadata": {},
     "output_type": "execute_result"
    }
   ],
   "source": [
    "ask_gpt(\"why is the mean sea level rising? and which is more important: glacier and sea ice melt, or thermal expansion of sea water?\")"
   ]
  },
  {
   "cell_type": "code",
   "execution_count": 32,
   "metadata": {},
   "outputs": [
    {
     "data": {
      "text/plain": [
       "0.057920000000000006"
      ]
     },
     "execution_count": 32,
     "metadata": {},
     "output_type": "execute_result"
    }
   ],
   "source": [
    "181*.0032/10"
   ]
  },
  {
   "cell_type": "code",
   "execution_count": 14,
   "metadata": {},
   "outputs": [
    {
     "name": "stdout",
     "output_type": "stream",
     "text": [
      "Efficiency and coverage are two important concepts in income support policy. Efficiency refers to the ability of a policy to achieve its intended goals with the least amount of resources possible. In the context of income support policy, efficiency would mean providing assistance to those who need it most while minimizing the cost to taxpayers.\n",
      "\n",
      "Coverage, on the other hand, refers to the extent to which a policy reaches its intended target population. In the context of income support policy, coverage would mean providing assistance to as many people as possible who are in need of financial support.\n",
      "\n",
      "There can be a conflict between efficiency and coverage in income support policy. For example, a policy that is highly efficient may only provide support to a small number of people, leaving many others without assistance. Conversely, a policy that provides coverage to a large number of people may be less efficient, as it may require more resources to reach a broader population.\n",
      "\n",
      "In order to strike a balance between efficiency and coverage, policymakers must carefully consider the trade-offs between the two. They must determine the appropriate level of assistance needed to meet the needs of the target population while also ensuring that the policy is cost-effective and sustainable. Ultimately, the goal of income support policy should be to provide assistance to those who need it most while also being efficient and cost-effective.\n"
     ]
    },
    {
     "data": {
      "text/plain": [
       "<OpenAIObject chat.completion id=chatcmpl-7BUWLib0m2Ct5z3uwuv54uxfXVVgy at 0x17201fd8450> JSON: {\n",
       "  \"choices\": [\n",
       "    {\n",
       "      \"finish_reason\": \"stop\",\n",
       "      \"index\": 0,\n",
       "      \"message\": {\n",
       "        \"content\": \"Efficiency and coverage are two important concepts in income support policy. Efficiency refers to the ability of a policy to achieve its intended goals with the least amount of resources possible. In the context of income support policy, efficiency would mean providing assistance to those who need it most while minimizing the cost to taxpayers.\\n\\nCoverage, on the other hand, refers to the extent to which a policy reaches its intended target population. In the context of income support policy, coverage would mean providing assistance to as many people as possible who are in need of financial support.\\n\\nThere can be a conflict between efficiency and coverage in income support policy. For example, a policy that is highly efficient may only provide support to a small number of people, leaving many others without assistance. Conversely, a policy that provides coverage to a large number of people may be less efficient, as it may require more resources to reach a broader population.\\n\\nIn order to strike a balance between efficiency and coverage, policymakers must carefully consider the trade-offs between the two. They must determine the appropriate level of assistance needed to meet the needs of the target population while also ensuring that the policy is cost-effective and sustainable. Ultimately, the goal of income support policy should be to provide assistance to those who need it most while also being efficient and cost-effective.\",\n",
       "        \"role\": \"assistant\"\n",
       "      }\n",
       "    }\n",
       "  ],\n",
       "  \"created\": 1682973285,\n",
       "  \"id\": \"chatcmpl-7BUWLib0m2Ct5z3uwuv54uxfXVVgy\",\n",
       "  \"model\": \"gpt-3.5-turbo-0301\",\n",
       "  \"object\": \"chat.completion\",\n",
       "  \"usage\": {\n",
       "    \"completion_tokens\": 256,\n",
       "    \"prompt_tokens\": 38,\n",
       "    \"total_tokens\": 294\n",
       "  }\n",
       "}"
      ]
     },
     "execution_count": 14,
     "metadata": {},
     "output_type": "execute_result"
    }
   ],
   "source": [
    "ask_gpt(\"explain the concepts of efficiency and coverage in the context of income support policy and any conflict between them\")"
   ]
  },
  {
   "cell_type": "code",
   "execution_count": 31,
   "metadata": {},
   "outputs": [
    {
     "data": {
      "text/plain": [
       "0.09408000000000001"
      ]
     },
     "execution_count": 31,
     "metadata": {},
     "output_type": "execute_result"
    }
   ],
   "source": [
    "294*0.0032/10"
   ]
  },
  {
   "cell_type": "code",
   "execution_count": 17,
   "metadata": {},
   "outputs": [
    {
     "name": "stdout",
     "output_type": "stream",
     "text": [
      "Universal basic income (UBI) is a policy that provides every citizen with a guaranteed income regardless of their employment status. There are several compelling arguments in favor of UBI. Firstly, it would help to alleviate poverty and reduce income inequality. With a guaranteed income, people would have the financial security to meet their basic needs, such as food, housing, and healthcare. This would also reduce the need for welfare programs and other forms of government assistance, which can be bureaucratic and stigmatizing. Additionally, UBI would provide a safety net for those who lose their jobs due to automation or other economic changes, allowing them to retrain or pursue other opportunities without fear of financial ruin.\n",
      "\n",
      "However, there are also valid arguments against UBI. One concern is that it could disincentivize work, as people may choose to rely on the guaranteed income rather than seeking employment. This could lead to a decrease in productivity and economic growth. Additionally, implementing UBI would be expensive and could require significant tax increases, which could be unpopular and politically challenging. There is also the question of how to determine the appropriate level of income to provide, as too little would not be effective in reducing poverty, while too much could be unsustainable and lead to inflation. Overall, while UBI has the potential to address some of the challenges of modern society, it is important to carefully consider the potential drawbacks and ensure that it is implemented in a way that is financially feasible and socially responsible.\n"
     ]
    },
    {
     "data": {
      "text/plain": [
       "<OpenAIObject chat.completion id=chatcmpl-7BUlkYCv7qw63NYzMgEODYMRjaRkp at 0x17201068d10> JSON: {\n",
       "  \"choices\": [\n",
       "    {\n",
       "      \"finish_reason\": \"stop\",\n",
       "      \"index\": 0,\n",
       "      \"message\": {\n",
       "        \"content\": \"Universal basic income (UBI) is a policy that provides every citizen with a guaranteed income regardless of their employment status. There are several compelling arguments in favor of UBI. Firstly, it would help to alleviate poverty and reduce income inequality. With a guaranteed income, people would have the financial security to meet their basic needs, such as food, housing, and healthcare. This would also reduce the need for welfare programs and other forms of government assistance, which can be bureaucratic and stigmatizing. Additionally, UBI would provide a safety net for those who lose their jobs due to automation or other economic changes, allowing them to retrain or pursue other opportunities without fear of financial ruin.\\n\\nHowever, there are also valid arguments against UBI. One concern is that it could disincentivize work, as people may choose to rely on the guaranteed income rather than seeking employment. This could lead to a decrease in productivity and economic growth. Additionally, implementing UBI would be expensive and could require significant tax increases, which could be unpopular and politically challenging. There is also the question of how to determine the appropriate level of income to provide, as too little would not be effective in reducing poverty, while too much could be unsustainable and lead to inflation. Overall, while UBI has the potential to address some of the challenges of modern society, it is important to carefully consider the potential drawbacks and ensure that it is implemented in a way that is financially feasible and socially responsible.\",\n",
       "        \"role\": \"assistant\"\n",
       "      }\n",
       "    }\n",
       "  ],\n",
       "  \"created\": 1682974240,\n",
       "  \"id\": \"chatcmpl-7BUlkYCv7qw63NYzMgEODYMRjaRkp\",\n",
       "  \"model\": \"gpt-3.5-turbo-0301\",\n",
       "  \"object\": \"chat.completion\",\n",
       "  \"usage\": {\n",
       "    \"completion_tokens\": 293,\n",
       "    \"prompt_tokens\": 36,\n",
       "    \"total_tokens\": 329\n",
       "  }\n",
       "}"
      ]
     },
     "execution_count": 17,
     "metadata": {},
     "output_type": "execute_result"
    }
   ],
   "source": [
    "ask_gpt(\"Write two paragraphs, the first arguing for universal basic income and the second arguing against it\")"
   ]
  },
  {
   "cell_type": "code",
   "execution_count": 30,
   "metadata": {},
   "outputs": [
    {
     "data": {
      "text/plain": [
       "0.10528"
      ]
     },
     "execution_count": 30,
     "metadata": {},
     "output_type": "execute_result"
    }
   ],
   "source": [
    "329*0.0032/10"
   ]
  },
  {
   "cell_type": "code",
   "execution_count": 26,
   "metadata": {},
   "outputs": [
    {
     "name": "stdout",
     "output_type": "stream",
     "text": [
      "- Myth: Carbon pricing will significantly hurt the economy\n",
      "- Existing carbon taxes have a small impact on GDP growth\n",
      "- Empirical studies find little to no impact of carbon taxes on economic growth in Europe and Canada\n",
      "- A recent study suggests that CGE models overestimate the adverse impact of carbon taxes on GDP growth\n",
      "- Incorporating firm creation and technology adoption into modelling may lead to positive impacts on economic output from carbon taxes\n",
      "- Overall, the evidence does not support the view that carbon pricing is bad for the economy.\n"
     ]
    },
    {
     "data": {
      "text/plain": [
       "<OpenAIObject chat.completion id=chatcmpl-7BVWAJ0Un8JJbWTL9uoIpLg6zzKVU at 0x17203fc78b0> JSON: {\n",
       "  \"choices\": [\n",
       "    {\n",
       "      \"finish_reason\": \"stop\",\n",
       "      \"index\": 0,\n",
       "      \"message\": {\n",
       "        \"content\": \"- Myth: Carbon pricing will significantly hurt the economy\\n- Existing carbon taxes have a small impact on GDP growth\\n- Empirical studies find little to no impact of carbon taxes on economic growth in Europe and Canada\\n- A recent study suggests that CGE models overestimate the adverse impact of carbon taxes on GDP growth\\n- Incorporating firm creation and technology adoption into modelling may lead to positive impacts on economic output from carbon taxes\\n- Overall, the evidence does not support the view that carbon pricing is bad for the economy.\",\n",
       "        \"role\": \"assistant\"\n",
       "      }\n",
       "    }\n",
       "  ],\n",
       "  \"created\": 1682977118,\n",
       "  \"id\": \"chatcmpl-7BVWAJ0Un8JJbWTL9uoIpLg6zzKVU\",\n",
       "  \"model\": \"gpt-3.5-turbo-0301\",\n",
       "  \"object\": \"chat.completion\",\n",
       "  \"usage\": {\n",
       "    \"completion_tokens\": 105,\n",
       "    \"prompt_tokens\": 2059,\n",
       "    \"total_tokens\": 2164\n",
       "  }\n",
       "}"
      ]
     },
     "execution_count": 26,
     "metadata": {},
     "output_type": "execute_result"
    }
   ],
   "source": [
    "ask_gpt(\"summarise this text in bullet points: \"+open('section.txt', encoding='utf-8', errors='ignore').read())"
   ]
  },
  {
   "cell_type": "code",
   "execution_count": 29,
   "metadata": {},
   "outputs": [
    {
     "data": {
      "text/plain": [
       "0.69248"
      ]
     },
     "execution_count": 29,
     "metadata": {},
     "output_type": "execute_result"
    }
   ],
   "source": [
    "2164*0.0032/1000*100"
   ]
  },
  {
   "cell_type": "code",
   "execution_count": 23,
   "metadata": {},
   "outputs": [
    {
     "name": "stdout",
     "output_type": "stream",
     "text": [
      "Here's a Python function that removes non-unicode characters from a text file:\n",
      "\n",
      "```python\n",
      "def remove_non_unicode_chars(file_path):\n",
      "    with open(file_path, 'r', encoding='utf-8', errors='ignore') as file:\n",
      "        text = file.read()\n",
      "    with open(file_path, 'w', encoding='utf-8') as file:\n",
      "        file.write(text)\n",
      "```\n",
      "\n",
      "This function opens the file at the given `file_path` and reads its contents as a string, ignoring any non-unicode characters. It then opens the same file again, this time in write mode, and writes the cleaned-up text back to the file. This effectively removes any non-unicode characters from the file.\n"
     ]
    },
    {
     "data": {
      "text/plain": [
       "<OpenAIObject chat.completion id=chatcmpl-7BVLPc8IFV3mvGtrLszLFvHX2jlAH at 0x1720417d1d0> JSON: {\n",
       "  \"choices\": [\n",
       "    {\n",
       "      \"finish_reason\": \"stop\",\n",
       "      \"index\": 0,\n",
       "      \"message\": {\n",
       "        \"content\": \"Here's a Python function that removes non-unicode characters from a text file:\\n\\n```python\\ndef remove_non_unicode_chars(file_path):\\n    with open(file_path, 'r', encoding='utf-8', errors='ignore') as file:\\n        text = file.read()\\n    with open(file_path, 'w', encoding='utf-8') as file:\\n        file.write(text)\\n```\\n\\nThis function opens the file at the given `file_path` and reads its contents as a string, ignoring any non-unicode characters. It then opens the same file again, this time in write mode, and writes the cleaned-up text back to the file. This effectively removes any non-unicode characters from the file.\",\n",
       "        \"role\": \"assistant\"\n",
       "      }\n",
       "    }\n",
       "  ],\n",
       "  \"created\": 1682976451,\n",
       "  \"id\": \"chatcmpl-7BVLPc8IFV3mvGtrLszLFvHX2jlAH\",\n",
       "  \"model\": \"gpt-3.5-turbo-0301\",\n",
       "  \"object\": \"chat.completion\",\n",
       "  \"usage\": {\n",
       "    \"completion_tokens\": 144,\n",
       "    \"prompt_tokens\": 33,\n",
       "    \"total_tokens\": 177\n",
       "  }\n",
       "}"
      ]
     },
     "execution_count": 23,
     "metadata": {},
     "output_type": "execute_result"
    }
   ],
   "source": [
    "ask_gpt('write a python function that removes non-unicode characters from a text file')"
   ]
  },
  {
   "cell_type": "code",
   "execution_count": 25,
   "metadata": {},
   "outputs": [
    {
     "data": {
      "text/plain": [
       "0.5664"
      ]
     },
     "execution_count": 25,
     "metadata": {},
     "output_type": "execute_result"
    }
   ],
   "source": [
    "177*0.0032"
   ]
  },
  {
   "cell_type": "code",
   "execution_count": 9,
   "metadata": {},
   "outputs": [
    {
     "name": "stdout",
     "output_type": "stream",
     "text": [
      "1. Domesticated pig\n",
      "2. Bobcat\n",
      "3. Coyote\n",
      "4. Red fox\n",
      "5. Beaver\n"
     ]
    },
    {
     "data": {
      "text/plain": [
       "<OpenAIObject chat.completion id=chatcmpl-71jiPIlUZuNTyP2GAXG20va0NUZWb at 0x1c77f22d5e0> JSON: {\n",
       "  \"choices\": [\n",
       "    {\n",
       "      \"finish_reason\": \"stop\",\n",
       "      \"index\": 0,\n",
       "      \"message\": {\n",
       "        \"content\": \"1. Domesticated pig\\n2. Bobcat\\n3. Coyote\\n4. Red fox\\n5. Beaver\",\n",
       "        \"role\": \"assistant\"\n",
       "      }\n",
       "    }\n",
       "  ],\n",
       "  \"created\": 1680648413,\n",
       "  \"id\": \"chatcmpl-71jiPIlUZuNTyP2GAXG20va0NUZWb\",\n",
       "  \"model\": \"gpt-3.5-turbo-0301\",\n",
       "  \"object\": \"chat.completion\",\n",
       "  \"usage\": {\n",
       "    \"completion_tokens\": 24,\n",
       "    \"prompt_tokens\": 35,\n",
       "    \"total_tokens\": 59\n",
       "  }\n",
       "}"
      ]
     },
     "execution_count": 9,
     "metadata": {},
     "output_type": "execute_result"
    }
   ],
   "source": [
    "ask_gpt('list 5 animals that weight about 15kg, but only include one dog')"
   ]
  },
  {
   "cell_type": "code",
   "execution_count": 11,
   "metadata": {},
   "outputs": [
    {
     "name": "stdout",
     "output_type": "stream",
     "text": [
      "In Jupyter Notebook, you can wrap text output by using the `pandas` library. Here's an example:\n",
      "\n",
      "1. First, import the `pandas` library:\n",
      "\n",
      "```python\n",
      "import pandas as pd\n",
      "```\n",
      "\n",
      "2. Next, create a DataFrame with your text data:\n",
      "\n",
      "```python\n",
      "data = {'text': ['This is a long sentence that needs to be wrapped in Jupyter Notebook', 'Another long sentence that needs to be wrapped']}\n",
      "df = pd.DataFrame(data)\n",
      "```\n",
      "\n",
      "3. Finally, use the `set_option` method to set the `display.max_colwidth` option to the desired width (in this example, 40):\n",
      "\n",
      "```python\n",
      "pd.set_option('display.max_colwidth', 40)\n",
      "df\n",
      "```\n",
      "\n",
      "This will display the DataFrame with the text output wrapped at 40 characters. You can adjust the width to suit your needs.\n"
     ]
    },
    {
     "data": {
      "text/plain": [
       "<OpenAIObject chat.completion id=chatcmpl-71jo7hEsXa34F0uIpkbM3bv2zTQpz at 0x1c77f22dd60> JSON: {\n",
       "  \"choices\": [\n",
       "    {\n",
       "      \"finish_reason\": \"stop\",\n",
       "      \"index\": 0,\n",
       "      \"message\": {\n",
       "        \"content\": \"In Jupyter Notebook, you can wrap text output by using the `pandas` library. Here's an example:\\n\\n1. First, import the `pandas` library:\\n\\n```python\\nimport pandas as pd\\n```\\n\\n2. Next, create a DataFrame with your text data:\\n\\n```python\\ndata = {'text': ['This is a long sentence that needs to be wrapped in Jupyter Notebook', 'Another long sentence that needs to be wrapped']}\\ndf = pd.DataFrame(data)\\n```\\n\\n3. Finally, use the `set_option` method to set the `display.max_colwidth` option to the desired width (in this example, 40):\\n\\n```python\\npd.set_option('display.max_colwidth', 40)\\ndf\\n```\\n\\nThis will display the DataFrame with the text output wrapped at 40 characters. You can adjust the width to suit your needs.\",\n",
       "        \"role\": \"assistant\"\n",
       "      }\n",
       "    }\n",
       "  ],\n",
       "  \"created\": 1680648767,\n",
       "  \"id\": \"chatcmpl-71jo7hEsXa34F0uIpkbM3bv2zTQpz\",\n",
       "  \"model\": \"gpt-3.5-turbo-0301\",\n",
       "  \"object\": \"chat.completion\",\n",
       "  \"usage\": {\n",
       "    \"completion_tokens\": 177,\n",
       "    \"prompt_tokens\": 31,\n",
       "    \"total_tokens\": 208\n",
       "  }\n",
       "}"
      ]
     },
     "execution_count": 11,
     "metadata": {},
     "output_type": "execute_result"
    }
   ],
   "source": [
    "ask_gpt('in jupyter-notebook how do you wrap text output?')"
   ]
  },
  {
   "cell_type": "code",
   "execution_count": 14,
   "metadata": {},
   "outputs": [
    {
     "name": "stdout",
     "output_type": "stream",
     "text": [
      "In designing a welfare system, it is important to ensure that the size of the transfer matches the size of the need. This is because if the transfer is too small, it may not adequately address the needs of the recipient, while if it is too large, it may create disincentives for work and discourage self-sufficiency. \n",
      "\n",
      "Research has shown that welfare programs that provide transfers that are well-targeted and commensurate with the needs of the recipient are more effective in reducing poverty and improving social welfare outcomes (Moffitt, 2015). Additionally, programs that provide incentives for work and self-sufficiency, such as earned income tax credits, have been found to be more successful in promoting long-term economic mobility (Hoynes & Patel, 2018).\n",
      "\n",
      "Therefore, in designing a welfare system, policymakers should carefully consider the size of the transfer relative to the needs of the recipient, as well as the potential impact on work incentives and long-term economic mobility.\n",
      "\n",
      "References:\n",
      "\n",
      "Hoynes, H. W., & Patel, A. J. (2018). Effective policy for reducing poverty and inequality? The earned income tax credit and the distribution of income. The ANNALS of the American Academy of Political and Social Science, 680(1), 192-212.\n",
      "\n",
      "Moffitt, R. A. (2015). The deserving poor, the family, and the US welfare system. Demography, 52(3), 729-749.\n"
     ]
    },
    {
     "data": {
      "text/plain": [
       "<OpenAIObject chat.completion id=chatcmpl-71kSlxsA2kuRucUxhccKbBbPZIVpN at 0x1c77f204b80> JSON: {\n",
       "  \"choices\": [\n",
       "    {\n",
       "      \"finish_reason\": \"stop\",\n",
       "      \"index\": 0,\n",
       "      \"message\": {\n",
       "        \"content\": \"In designing a welfare system, it is important to ensure that the size of the transfer matches the size of the need. This is because if the transfer is too small, it may not adequately address the needs of the recipient, while if it is too large, it may create disincentives for work and discourage self-sufficiency. \\n\\nResearch has shown that welfare programs that provide transfers that are well-targeted and commensurate with the needs of the recipient are more effective in reducing poverty and improving social welfare outcomes (Moffitt, 2015). Additionally, programs that provide incentives for work and self-sufficiency, such as earned income tax credits, have been found to be more successful in promoting long-term economic mobility (Hoynes & Patel, 2018).\\n\\nTherefore, in designing a welfare system, policymakers should carefully consider the size of the transfer relative to the needs of the recipient, as well as the potential impact on work incentives and long-term economic mobility.\\n\\nReferences:\\n\\nHoynes, H. W., & Patel, A. J. (2018). Effective policy for reducing poverty and inequality? The earned income tax credit and the distribution of income. The ANNALS of the American Academy of Political and Social Science, 680(1), 192-212.\\n\\nMoffitt, R. A. (2015). The deserving poor, the family, and the US welfare system. Demography, 52(3), 729-749.\",\n",
       "        \"role\": \"assistant\"\n",
       "      }\n",
       "    }\n",
       "  ],\n",
       "  \"created\": 1680651287,\n",
       "  \"id\": \"chatcmpl-71kSlxsA2kuRucUxhccKbBbPZIVpN\",\n",
       "  \"model\": \"gpt-3.5-turbo-0301\",\n",
       "  \"object\": \"chat.completion\",\n",
       "  \"usage\": {\n",
       "    \"completion_tokens\": 296,\n",
       "    \"prompt_tokens\": 55,\n",
       "    \"total_tokens\": 351\n",
       "  }\n",
       "}"
      ]
     },
     "execution_count": 14,
     "metadata": {},
     "output_type": "execute_result"
    }
   ],
   "source": [
    "ask_gpt('in the context of welfare system design can you please write a few sentence about the desirability of the size of the transfer matching the size of the need.  Include full references')"
   ]
  },
  {
   "cell_type": "code",
   "execution_count": 16,
   "metadata": {},
   "outputs": [
    {
     "name": "stdout",
     "output_type": "stream",
     "text": [
      "Kayaking is not considered a racket sport because it does not involve the use of a racket or any other equipment that is used to hit a ball or shuttlecock. Racket sports typically involve hitting a ball or shuttlecock back and forth over a net or across a court using a racket. Kayaking, on the other hand, involves paddling a small boat or kayak through water using a paddle. Therefore, kayaking is classified as a water sport rather than a racket sport.\n"
     ]
    },
    {
     "data": {
      "text/plain": [
       "<OpenAIObject chat.completion id=chatcmpl-71oNltsq5s10bMfJOVcORoJHrECm7 at 0x1c77f21b180> JSON: {\n",
       "  \"choices\": [\n",
       "    {\n",
       "      \"finish_reason\": \"stop\",\n",
       "      \"index\": 0,\n",
       "      \"message\": {\n",
       "        \"content\": \"Kayaking is not considered a racket sport because it does not involve the use of a racket or any other equipment that is used to hit a ball or shuttlecock. Racket sports typically involve hitting a ball or shuttlecock back and forth over a net or across a court using a racket. Kayaking, on the other hand, involves paddling a small boat or kayak through water using a paddle. Therefore, kayaking is classified as a water sport rather than a racket sport.\",\n",
       "        \"role\": \"assistant\"\n",
       "      }\n",
       "    }\n",
       "  ],\n",
       "  \"created\": 1680666353,\n",
       "  \"id\": \"chatcmpl-71oNltsq5s10bMfJOVcORoJHrECm7\",\n",
       "  \"model\": \"gpt-3.5-turbo-0301\",\n",
       "  \"object\": \"chat.completion\",\n",
       "  \"usage\": {\n",
       "    \"completion_tokens\": 96,\n",
       "    \"prompt_tokens\": 27,\n",
       "    \"total_tokens\": 123\n",
       "  }\n",
       "}"
      ]
     },
     "execution_count": 16,
     "metadata": {},
     "output_type": "execute_result"
    }
   ],
   "source": [
    "ask_gpt(\"why isn't kayaking a racket sport\")"
   ]
  },
  {
   "cell_type": "code",
   "execution_count": 17,
   "metadata": {},
   "outputs": [
    {
     "name": "stdout",
     "output_type": "stream",
     "text": [
      "As an AI language model, I don't believe that astrology can determine what sport you should play. However, Scorpios are known for their determination, intensity, and competitiveness, so you may enjoy sports that require these traits such as martial arts, boxing, or competitive swimming. Ultimately, the best sport for you to play is the one that you enjoy and feel passionate about.\n"
     ]
    },
    {
     "data": {
      "text/plain": [
       "<OpenAIObject chat.completion id=chatcmpl-71oOeKrGi3XlzIFmml1zzIX8MIsRD at 0x1c77f204860> JSON: {\n",
       "  \"choices\": [\n",
       "    {\n",
       "      \"finish_reason\": \"stop\",\n",
       "      \"index\": 0,\n",
       "      \"message\": {\n",
       "        \"content\": \"As an AI language model, I don't believe that astrology can determine what sport you should play. However, Scorpios are known for their determination, intensity, and competitiveness, so you may enjoy sports that require these traits such as martial arts, boxing, or competitive swimming. Ultimately, the best sport for you to play is the one that you enjoy and feel passionate about.\",\n",
       "        \"role\": \"assistant\"\n",
       "      }\n",
       "    }\n",
       "  ],\n",
       "  \"created\": 1680666408,\n",
       "  \"id\": \"chatcmpl-71oOeKrGi3XlzIFmml1zzIX8MIsRD\",\n",
       "  \"model\": \"gpt-3.5-turbo-0301\",\n",
       "  \"object\": \"chat.completion\",\n",
       "  \"usage\": {\n",
       "    \"completion_tokens\": 75,\n",
       "    \"prompt_tokens\": 29,\n",
       "    \"total_tokens\": 104\n",
       "  }\n",
       "}"
      ]
     },
     "execution_count": 17,
     "metadata": {},
     "output_type": "execute_result"
    }
   ],
   "source": [
    "ask_gpt('as a scorpio, what sport should I play')"
   ]
  },
  {
   "cell_type": "code",
   "execution_count": 37,
   "metadata": {},
   "outputs": [
    {
     "name": "stdout",
     "output_type": "stream",
     "text": [
      "Summary of agency responses regarding ChatGPT:\n",
      "\n",
      "- Some agencies are not using it in an official capacity, while others are using it for coding, math derivations, and paraphrasing text.\n",
      "- Concerns around the accuracy of outputs, security, and potential bias have been raised.\n",
      "- Some agencies are planning internal sessions to discuss ChatGPT and its potential use cases.\n",
      "- Confidentiality and security are issues, but some agencies see it as similar to using tools like Grammarly.\n",
      "- Some agencies are interested in using ChatGPT for generating large volumes of submissions and parsing datasets for insights.\n",
      "- A workshop is being set up to coordinate across National Govt Offices to form an agreed position on ChatGPT.\n",
      "- Some agencies are taking a conservative approach and preventing its use until more is understood about its utility and security.\n"
     ]
    },
    {
     "data": {
      "text/plain": [
       "<OpenAIObject chat.completion id=chatcmpl-7BZOrb4OyVCCOFrfpXtF9MOrJEzc2 at 0x1720433b4f0> JSON: {\n",
       "  \"choices\": [\n",
       "    {\n",
       "      \"finish_reason\": \"stop\",\n",
       "      \"index\": 0,\n",
       "      \"message\": {\n",
       "        \"content\": \"Summary of agency responses regarding ChatGPT:\\n\\n- Some agencies are not using it in an official capacity, while others are using it for coding, math derivations, and paraphrasing text.\\n- Concerns around the accuracy of outputs, security, and potential bias have been raised.\\n- Some agencies are planning internal sessions to discuss ChatGPT and its potential use cases.\\n- Confidentiality and security are issues, but some agencies see it as similar to using tools like Grammarly.\\n- Some agencies are interested in using ChatGPT for generating large volumes of submissions and parsing datasets for insights.\\n- A workshop is being set up to coordinate across National Govt Offices to form an agreed position on ChatGPT.\\n- Some agencies are taking a conservative approach and preventing its use until more is understood about its utility and security.\",\n",
       "        \"role\": \"assistant\"\n",
       "      }\n",
       "    }\n",
       "  ],\n",
       "  \"created\": 1682992041,\n",
       "  \"id\": \"chatcmpl-7BZOrb4OyVCCOFrfpXtF9MOrJEzc2\",\n",
       "  \"model\": \"gpt-3.5-turbo-0301\",\n",
       "  \"object\": \"chat.completion\",\n",
       "  \"usage\": {\n",
       "    \"completion_tokens\": 164,\n",
       "    \"prompt_tokens\": 1296,\n",
       "    \"total_tokens\": 1460\n",
       "  }\n",
       "}"
      ]
     },
     "execution_count": 37,
     "metadata": {},
     "output_type": "execute_result"
    }
   ],
   "source": [
    "ask_gpt(\"Several agencies were asked about their use of ChatGPT.  Can you please summarise the following responses into a few bullet points: \"+open('responses.txt', errors='ignore').read())"
   ]
  },
  {
   "cell_type": "code",
   "execution_count": 3,
   "metadata": {},
   "outputs": [],
   "source": [
    "transactions  = '\\n'.join(open('C:/Users/davisc/Downloads/38-9006-0568060-04_13Jul.CSV').readlines()[:40])"
   ]
  },
  {
   "cell_type": "code",
   "execution_count": 10,
   "metadata": {},
   "outputs": [
    {
     "name": "stdout",
     "output_type": "stream",
     "text": [
      "This is a bank statement for account number 38-9006-0568060-04 covering transactions from May 14th to May 30th, 2022. The statement includes various types of transactions such as POS withdrawals, direct debits, transfers, and payments to individuals and businesses. The account balance starts at -16866.12 and ends at -22762.69, with a total of 23 transactions during this period. The largest transaction is a direct debit payment of $8119.63 to Kiwibank credit cards on May 18th, and the largest credit is a salary payment of $3372.59 from The Treasury on May 24th. The statement also includes several payments to R M Davis, O G Davis, W L Davis, and C P Davis & C J Jacoby, as well as payments to Abbie Cider and Defy PT.\n"
     ]
    },
    {
     "data": {
      "text/plain": [
       "<OpenAIObject chat.completion id=chatcmpl-7BaqGUF92ZUuDbXJJX7mQnajJydrX at 0x2bdea675c20> JSON: {\n",
       "  \"choices\": [\n",
       "    {\n",
       "      \"finish_reason\": \"stop\",\n",
       "      \"index\": 0,\n",
       "      \"message\": {\n",
       "        \"content\": \"This is a bank statement for account number 38-9006-0568060-04 covering transactions from May 14th to May 30th, 2022. The statement includes various types of transactions such as POS withdrawals, direct debits, transfers, and payments to individuals and businesses. The account balance starts at -16866.12 and ends at -22762.69, with a total of 23 transactions during this period. The largest transaction is a direct debit payment of $8119.63 to Kiwibank credit cards on May 18th, and the largest credit is a salary payment of $3372.59 from The Treasury on May 24th. The statement also includes several payments to R M Davis, O G Davis, W L Davis, and C P Davis & C J Jacoby, as well as payments to Abbie Cider and Defy PT.\",\n",
       "        \"role\": \"assistant\"\n",
       "      }\n",
       "    }\n",
       "  ],\n",
       "  \"created\": 1682997584,\n",
       "  \"id\": \"chatcmpl-7BaqGUF92ZUuDbXJJX7mQnajJydrX\",\n",
       "  \"model\": \"gpt-3.5-turbo-0301\",\n",
       "  \"object\": \"chat.completion\",\n",
       "  \"usage\": {\n",
       "    \"completion_tokens\": 184,\n",
       "    \"prompt_tokens\": 2796,\n",
       "    \"total_tokens\": 2980\n",
       "  }\n",
       "}"
      ]
     },
     "execution_count": 10,
     "metadata": {},
     "output_type": "execute_result"
    }
   ],
   "source": [
    "ask_gpt('Answer the following question based on this bank statement data\\n\\n'+transactions+'\\n\\nsummarise this data', max_tokens=1000)"
   ]
  },
  {
   "cell_type": "markdown",
   "metadata": {},
   "source": []
  }
 ],
 "metadata": {
  "kernelspec": {
   "display_name": "Python 3",
   "language": "python",
   "name": "python3"
  },
  "language_info": {
   "codemirror_mode": {
    "name": "ipython",
    "version": 3
   },
   "file_extension": ".py",
   "mimetype": "text/x-python",
   "name": "python",
   "nbconvert_exporter": "python",
   "pygments_lexer": "ipython3",
   "version": "3.8.0"
  },
  "orig_nbformat": 4
 },
 "nbformat": 4,
 "nbformat_minor": 2
}

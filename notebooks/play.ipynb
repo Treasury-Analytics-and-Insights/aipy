{
 "cells": [
  {
   "cell_type": "code",
   "execution_count": 1,
   "metadata": {},
   "outputs": [],
   "source": [
    "import sys\n",
    "sys.path.append('..')\n",
    "from aipy.ai import *\n"
   ]
  },
  {
   "cell_type": "code",
   "execution_count": 2,
   "metadata": {},
   "outputs": [
    {
     "name": "stdout",
     "output_type": "stream",
     "text": [
      "This code defines three functions that use the OpenAI GPT-3 language model to generate text based on user input. \n",
      "\n",
      "The `gptchat` function takes in a list of messages and a maximum number of tokens, and uses the OpenAI ChatCompletion API to generate a response. The response is then printed and returned.\n",
      "\n",
      "The `describe_code` function takes in a file path to a code file, a question (defaulting to \"Describe the purpose and algorithm for this code\"), and a maximum number of tokens. It reads the code from the file, creates a message list with a system message indicating the language of the code and a user message with the question and code, and passes this to the `gptchat` function. The resulting response is returned.\n",
      "\n",
      "The `ask_gpt` function takes in a question and uses the `gptchat` function to generate a response. \n",
      "\n",
      "Overall, this code allows a user to interact with the GPT-3 language model to generate text based on input questions or code snippets. The algorithm used by the GPT-3 model is a deep neural network that has been trained on a large corpus of text data, and uses this training to generate responses based on input text.\n"
     ]
    }
   ],
   "source": [
    "answer = describe_code('../aipy/ai.py')"
   ]
  },
  {
   "cell_type": "code",
   "execution_count": 3,
   "metadata": {},
   "outputs": [
    {
     "name": "stdout",
     "output_type": "stream",
     "text": [
      "You can use the `textwrap` module in Python to print strings with word-wrap. Here's an example:\n",
      "\n",
      "```python\n",
      "import textwrap\n",
      "\n",
      "# Define a long string\n",
      "long_string = \"Lorem ipsum dolor sit amet, consectetur adipiscing elit. Sed euismod, velit vel bibendum bibendum, nisi sapien bibendum ipsum, vel ultricies nunc enim eu mauris.\"\n",
      "\n",
      "# Wrap the string to a maximum width of 30 characters\n",
      "wrapped_string = textwrap.fill(long_string, width=30)\n",
      "\n",
      "# Print the wrapped string\n",
      "print(wrapped_string)\n",
      "```\n",
      "\n",
      "This will output:\n",
      "\n",
      "```\n",
      "Lorem ipsum dolor sit amet,\n",
      "consectetur adipiscing elit.\n",
      "Sed euismod, velit vel\n",
      "bibendum bibendum, nisi sapien\n",
      "bibendum ipsum, vel ultricies\n",
      "nunc enim eu mauris.\n",
      "```\n",
      "\n",
      "The `textwrap.fill()` function takes two arguments: the string to wrap and the maximum width of each line. It returns a new string with line breaks inserted at appropriate places to ensure that no line exceeds the specified width.\n"
     ]
    },
    {
     "data": {
      "text/plain": [
       "<OpenAIObject chat.completion id=chatcmpl-71XXZCgzHvXk0cZlY8jVjSkrGlqCu at 0x1f17fca71d0> JSON: {\n",
       "  \"choices\": [\n",
       "    {\n",
       "      \"finish_reason\": \"stop\",\n",
       "      \"index\": 0,\n",
       "      \"message\": {\n",
       "        \"content\": \"You can use the `textwrap` module in Python to print strings with word-wrap. Here's an example:\\n\\n```python\\nimport textwrap\\n\\n# Define a long string\\nlong_string = \\\"Lorem ipsum dolor sit amet, consectetur adipiscing elit. Sed euismod, velit vel bibendum bibendum, nisi sapien bibendum ipsum, vel ultricies nunc enim eu mauris.\\\"\\n\\n# Wrap the string to a maximum width of 30 characters\\nwrapped_string = textwrap.fill(long_string, width=30)\\n\\n# Print the wrapped string\\nprint(wrapped_string)\\n```\\n\\nThis will output:\\n\\n```\\nLorem ipsum dolor sit amet,\\nconsectetur adipiscing elit.\\nSed euismod, velit vel\\nbibendum bibendum, nisi sapien\\nbibendum ipsum, vel ultricies\\nnunc enim eu mauris.\\n```\\n\\nThe `textwrap.fill()` function takes two arguments: the string to wrap and the maximum width of each line. It returns a new string with line breaks inserted at appropriate places to ensure that no line exceeds the specified width.\",\n",
       "        \"role\": \"assistant\"\n",
       "      }\n",
       "    }\n",
       "  ],\n",
       "  \"created\": 1680601613,\n",
       "  \"id\": \"chatcmpl-71XXZCgzHvXk0cZlY8jVjSkrGlqCu\",\n",
       "  \"model\": \"gpt-3.5-turbo-0301\",\n",
       "  \"object\": \"chat.completion\",\n",
       "  \"usage\": {\n",
       "    \"completion_tokens\": 216,\n",
       "    \"prompt_tokens\": 28,\n",
       "    \"total_tokens\": 244\n",
       "  }\n",
       "}"
      ]
     },
     "execution_count": 3,
     "metadata": {},
     "output_type": "execute_result"
    }
   ],
   "source": [
    "ask_gpt('how to you print python strings with word-wrap')"
   ]
  },
  {
   "cell_type": "code",
   "execution_count": null,
   "metadata": {},
   "outputs": [],
   "source": []
  }
 ],
 "metadata": {
  "kernelspec": {
   "display_name": "Python 3",
   "language": "python",
   "name": "python3"
  },
  "language_info": {
   "codemirror_mode": {
    "name": "ipython",
    "version": 3
   },
   "file_extension": ".py",
   "mimetype": "text/x-python",
   "name": "python",
   "nbconvert_exporter": "python",
   "pygments_lexer": "ipython3",
   "version": "3.8.0"
  },
  "orig_nbformat": 4
 },
 "nbformat": 4,
 "nbformat_minor": 2
}

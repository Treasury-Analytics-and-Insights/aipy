{
 "cells": [
  {
   "attachments": {},
   "cell_type": "markdown",
   "metadata": {},
   "source": [
    "# Demo of aipy"
   ]
  },
  {
   "cell_type": "code",
   "execution_count": 1,
   "metadata": {},
   "outputs": [],
   "source": [
    "import sys\n",
    "sys.path.append('..')\n",
    "\n",
    "from tinydb import Query\n",
    "\n",
    "from aipy.ai import *\n"
   ]
  },
  {
   "attachments": {},
   "cell_type": "markdown",
   "metadata": {},
   "source": [
    "## Load the DB of existing chats, and summarize it"
   ]
  },
  {
   "cell_type": "code",
   "execution_count": 2,
   "metadata": {},
   "outputs": [
    {
     "name": "stdout",
     "output_type": "stream",
     "text": [
      "+-----------------------------------------------+-----------------+---------------------------------------------------------+-----------------------------------------------------------------------------------------------------------------------------------------------------------------------------------------------------------------+\n",
      "|                      Name                     |       Date      |                          Topics                         |                                                                                                     Summary                                                                                                     |\n",
      "+-----------------------------------------------+-----------------+---------------------------------------------------------+-----------------------------------------------------------------------------------------------------------------------------------------------------------------------------------------------------------------+\n",
      "|              Code_Chatbot_OpenAI              | 20230528_174323 |              ['Code', 'Chatbot', 'OpenAI']              |                                          This chat, named \"CodeChat\", is a chatbot designed to interact with and provide assistance on code using the OpenAI chat API.                                          |\n",
      "|                                               | 20230528_215454 |                            []                           |                                                Unfortunately, I don't have access to the chat history between us, so I am unable to describe it in one sentence.                                                |\n",
      "|                Sleep_Golf_Time                | 20230528_221409 |                ['Sleep', 'Golf', 'Time']                |                                                                This chat was about sleep, bedtimes, and scheduling for an early morning tee time.                                                               |\n",
      "| Economics_Labor market_Unemployment insurance | 20230529_103335 | ['Economics', 'Labor market', 'Unemployment insurance'] |                          This chat involved the user asking questions about the meaning of specific phrases in an abstract and receiving clear explanations from the AI language model.                         |\n",
      "|    Brainstorming_Generative AI_Productivity   | 20230529_170759 |    ['Brainstorming', 'Generative AI', 'Productivity']   | This chat was a conversation between a user seeking advice on how to run a brainstorming session on utilizing generative AI with their team, and an AI assistant who provided tips on how to do so effectively. |\n",
      "+-----------------------------------------------+-----------------+---------------------------------------------------------+-----------------------------------------------------------------------------------------------------------------------------------------------------------------------------------------------------------------+\n"
     ]
    },
    {
     "data": {
      "text/html": [
       "<table>\n",
       "    <thead>\n",
       "        <tr>\n",
       "            <th>Name</th>\n",
       "            <th>Date</th>\n",
       "            <th>Topics</th>\n",
       "            <th>Summary</th>\n",
       "        </tr>\n",
       "    </thead>\n",
       "    <tbody>\n",
       "        <tr>\n",
       "            <td>Code_Chatbot_OpenAI</td>\n",
       "            <td>20230528_174323</td>\n",
       "            <td>[&#x27;Code&#x27;, &#x27;Chatbot&#x27;, &#x27;OpenAI&#x27;]</td>\n",
       "            <td>This chat, named &quot;CodeChat&quot;, is a chatbot designed to interact with and provide assistance on code using the OpenAI chat API.</td>\n",
       "        </tr>\n",
       "        <tr>\n",
       "            <td></td>\n",
       "            <td>20230528_215454</td>\n",
       "            <td>[]</td>\n",
       "            <td>Unfortunately, I don&#x27;t have access to the chat history between us, so I am unable to describe it in one sentence.</td>\n",
       "        </tr>\n",
       "        <tr>\n",
       "            <td>Sleep_Golf_Time</td>\n",
       "            <td>20230528_221409</td>\n",
       "            <td>[&#x27;Sleep&#x27;, &#x27;Golf&#x27;, &#x27;Time&#x27;]</td>\n",
       "            <td>This chat was about sleep, bedtimes, and scheduling for an early morning tee time.</td>\n",
       "        </tr>\n",
       "        <tr>\n",
       "            <td>Economics_Labor market_Unemployment insurance</td>\n",
       "            <td>20230529_103335</td>\n",
       "            <td>[&#x27;Economics&#x27;, &#x27;Labor market&#x27;, &#x27;Unemployment insurance&#x27;]</td>\n",
       "            <td>This chat involved the user asking questions about the meaning of specific phrases in an abstract and receiving clear explanations from the AI language model.</td>\n",
       "        </tr>\n",
       "        <tr>\n",
       "            <td>Brainstorming_Generative AI_Productivity</td>\n",
       "            <td>20230529_170759</td>\n",
       "            <td>[&#x27;Brainstorming&#x27;, &#x27;Generative AI&#x27;, &#x27;Productivity&#x27;]</td>\n",
       "            <td>This chat was a conversation between a user seeking advice on how to run a brainstorming session on utilizing generative AI with their team, and an AI assistant who provided tips on how to do so effectively.</td>\n",
       "        </tr>\n",
       "    </tbody>\n",
       "</table>"
      ],
      "text/plain": [
       "+-----------------------------------------------+-----------------+---------------------------------------------------------+-----------------------------------------------------------------------------------------------------------------------------------------------------------------------------------------------------------------+\n",
       "|                      Name                     |       Date      |                          Topics                         |                                                                                                     Summary                                                                                                     |\n",
       "+-----------------------------------------------+-----------------+---------------------------------------------------------+-----------------------------------------------------------------------------------------------------------------------------------------------------------------------------------------------------------------+\n",
       "|              Code_Chatbot_OpenAI              | 20230528_174323 |              ['Code', 'Chatbot', 'OpenAI']              |                                          This chat, named \"CodeChat\", is a chatbot designed to interact with and provide assistance on code using the OpenAI chat API.                                          |\n",
       "|                                               | 20230528_215454 |                            []                           |                                                Unfortunately, I don't have access to the chat history between us, so I am unable to describe it in one sentence.                                                |\n",
       "|                Sleep_Golf_Time                | 20230528_221409 |                ['Sleep', 'Golf', 'Time']                |                                                                This chat was about sleep, bedtimes, and scheduling for an early morning tee time.                                                               |\n",
       "| Economics_Labor market_Unemployment insurance | 20230529_103335 | ['Economics', 'Labor market', 'Unemployment insurance'] |                          This chat involved the user asking questions about the meaning of specific phrases in an abstract and receiving clear explanations from the AI language model.                         |\n",
       "|    Brainstorming_Generative AI_Productivity   | 20230529_170759 |    ['Brainstorming', 'Generative AI', 'Productivity']   | This chat was a conversation between a user seeking advice on how to run a brainstorming session on utilizing generative AI with their team, and an AI assistant who provided tips on how to do so effectively. |\n",
       "+-----------------------------------------------+-----------------+---------------------------------------------------------+-----------------------------------------------------------------------------------------------------------------------------------------------------------------------------------------------------------------+"
      ]
     },
     "execution_count": 2,
     "metadata": {},
     "output_type": "execute_result"
    }
   ],
   "source": [
    "db = ChatDB('chats.json')\n",
    "db.summarise()"
   ]
  },
  {
   "attachments": {},
   "cell_type": "markdown",
   "metadata": {},
   "source": [
    "## start a new chat"
   ]
  },
  {
   "cell_type": "code",
   "execution_count": 3,
   "metadata": {},
   "outputs": [],
   "source": [
    "new_chat = Chat()"
   ]
  },
  {
   "cell_type": "code",
   "execution_count": 4,
   "metadata": {},
   "outputs": [
    {
     "data": {
      "text/plain": [
       "\"As an AI language model, I wouldn't be able to give you an exact number of hours or sessions of Minecraft that would be considered too much. However, excessive use of any activity can become problematic if it interferes with daily responsibilities such as work, school, or other important activities. It is essential to maintain a proper balance between leisure activities and other essential aspects of life. It's recommended to set limits for yourself based on your personal needs, priorities, and responsibilities.\""
      ]
     },
     "execution_count": 4,
     "metadata": {},
     "output_type": "execute_result"
    }
   ],
   "source": [
    "new_chat.ask('How much Minecraft is too much')"
   ]
  },
  {
   "cell_type": "code",
   "execution_count": 5,
   "metadata": {},
   "outputs": [
    {
     "data": {
      "text/plain": [
       "\"It's recommended that children have a balanced approach to their daily activities, including leisure activities like Minecraft. As a general guideline, the American Academy of Pediatrics recommends that children and teens (ages 6-18) should have no more than two hours of screen time per day, including all electronic devices used for entertainment purposes, such as playing games, watching videos, or browsing the web.\\n\\nHowever, it's important to note that every child is different and may have different needs and interests. As a parent or caregiver, it's best to monitor your child's Minecraft usage and set appropriate limits based on their individual needs, schedules, and responsibilities. You can also encourage them to engage in other activities, such as playing outside, reading books, or spending time with friends and family. Ultimately, it's about finding a healthy balance between leisure activities and other important aspects of life.\""
      ]
     },
     "execution_count": 5,
     "metadata": {},
     "output_type": "execute_result"
    }
   ],
   "source": [
    "new_chat.ask('how about for an 8-yr old?')"
   ]
  },
  {
   "cell_type": "code",
   "execution_count": 6,
   "metadata": {},
   "outputs": [
    {
     "name": "stdout",
     "output_type": "stream",
     "text": [
      "Saved chat log to .\\Minecraft-Screen_Time-Balance_230530_175203.txt\n"
     ]
    }
   ],
   "source": [
    "new_chat.write_txt()"
   ]
  },
  {
   "cell_type": "code",
   "execution_count": 10,
   "metadata": {},
   "outputs": [],
   "source": [
    "db.store(new_chat)"
   ]
  },
  {
   "cell_type": "code",
   "execution_count": 11,
   "metadata": {},
   "outputs": [
    {
     "name": "stdout",
     "output_type": "stream",
     "text": [
      "+-----------------------------------------------+-----------------+---------------------------------------------------------+-----------------------------------------------------------------------------------------------------------------------------------------------------------------------------------------------------------------+\n",
      "|                      Name                     |       Date      |                          Topics                         |                                                                                                     Summary                                                                                                     |\n",
      "+-----------------------------------------------+-----------------+---------------------------------------------------------+-----------------------------------------------------------------------------------------------------------------------------------------------------------------------------------------------------------------+\n",
      "|              Code_Chatbot_OpenAI              | 20230528_174323 |              ['Code', 'Chatbot', 'OpenAI']              |                                          This chat, named \"CodeChat\", is a chatbot designed to interact with and provide assistance on code using the OpenAI chat API.                                          |\n",
      "|                                               | 20230528_215454 |                            []                           |                                                Unfortunately, I don't have access to the chat history between us, so I am unable to describe it in one sentence.                                                |\n",
      "|                Sleep_Golf_Time                | 20230528_221409 |                ['Sleep', 'Golf', 'Time']                |                                                                This chat was about sleep, bedtimes, and scheduling for an early morning tee time.                                                               |\n",
      "| Economics_Labor market_Unemployment insurance | 20230529_103335 | ['Economics', 'Labor market', 'Unemployment insurance'] |                          This chat involved the user asking questions about the meaning of specific phrases in an abstract and receiving clear explanations from the AI language model.                         |\n",
      "|    Brainstorming_Generative AI_Productivity   | 20230529_170759 |    ['Brainstorming', 'Generative AI', 'Productivity']   | This chat was a conversation between a user seeking advice on how to run a brainstorming session on utilizing generative AI with their team, and an AI assistant who provided tips on how to do so effectively. |\n",
      "| Minecraft-Screen_Time-Balance-20230530_175401 | 20230530_175401 |         ['Minecraft', 'Screen Time', 'Balance']         |                                  This chat is a conversation between a user and an AI language model, discussing topics such as Minecraft usage and setting appropriate limits.                                 |\n",
      "+-----------------------------------------------+-----------------+---------------------------------------------------------+-----------------------------------------------------------------------------------------------------------------------------------------------------------------------------------------------------------------+\n"
     ]
    },
    {
     "data": {
      "text/html": [
       "<table>\n",
       "    <thead>\n",
       "        <tr>\n",
       "            <th>Name</th>\n",
       "            <th>Date</th>\n",
       "            <th>Topics</th>\n",
       "            <th>Summary</th>\n",
       "        </tr>\n",
       "    </thead>\n",
       "    <tbody>\n",
       "        <tr>\n",
       "            <td>Code_Chatbot_OpenAI</td>\n",
       "            <td>20230528_174323</td>\n",
       "            <td>[&#x27;Code&#x27;, &#x27;Chatbot&#x27;, &#x27;OpenAI&#x27;]</td>\n",
       "            <td>This chat, named &quot;CodeChat&quot;, is a chatbot designed to interact with and provide assistance on code using the OpenAI chat API.</td>\n",
       "        </tr>\n",
       "        <tr>\n",
       "            <td></td>\n",
       "            <td>20230528_215454</td>\n",
       "            <td>[]</td>\n",
       "            <td>Unfortunately, I don&#x27;t have access to the chat history between us, so I am unable to describe it in one sentence.</td>\n",
       "        </tr>\n",
       "        <tr>\n",
       "            <td>Sleep_Golf_Time</td>\n",
       "            <td>20230528_221409</td>\n",
       "            <td>[&#x27;Sleep&#x27;, &#x27;Golf&#x27;, &#x27;Time&#x27;]</td>\n",
       "            <td>This chat was about sleep, bedtimes, and scheduling for an early morning tee time.</td>\n",
       "        </tr>\n",
       "        <tr>\n",
       "            <td>Economics_Labor market_Unemployment insurance</td>\n",
       "            <td>20230529_103335</td>\n",
       "            <td>[&#x27;Economics&#x27;, &#x27;Labor market&#x27;, &#x27;Unemployment insurance&#x27;]</td>\n",
       "            <td>This chat involved the user asking questions about the meaning of specific phrases in an abstract and receiving clear explanations from the AI language model.</td>\n",
       "        </tr>\n",
       "        <tr>\n",
       "            <td>Brainstorming_Generative AI_Productivity</td>\n",
       "            <td>20230529_170759</td>\n",
       "            <td>[&#x27;Brainstorming&#x27;, &#x27;Generative AI&#x27;, &#x27;Productivity&#x27;]</td>\n",
       "            <td>This chat was a conversation between a user seeking advice on how to run a brainstorming session on utilizing generative AI with their team, and an AI assistant who provided tips on how to do so effectively.</td>\n",
       "        </tr>\n",
       "        <tr>\n",
       "            <td>Minecraft-Screen_Time-Balance-20230530_175401</td>\n",
       "            <td>20230530_175401</td>\n",
       "            <td>[&#x27;Minecraft&#x27;, &#x27;Screen Time&#x27;, &#x27;Balance&#x27;]</td>\n",
       "            <td>This chat is a conversation between a user and an AI language model, discussing topics such as Minecraft usage and setting appropriate limits.</td>\n",
       "        </tr>\n",
       "    </tbody>\n",
       "</table>"
      ],
      "text/plain": [
       "+-----------------------------------------------+-----------------+---------------------------------------------------------+-----------------------------------------------------------------------------------------------------------------------------------------------------------------------------------------------------------------+\n",
       "|                      Name                     |       Date      |                          Topics                         |                                                                                                     Summary                                                                                                     |\n",
       "+-----------------------------------------------+-----------------+---------------------------------------------------------+-----------------------------------------------------------------------------------------------------------------------------------------------------------------------------------------------------------------+\n",
       "|              Code_Chatbot_OpenAI              | 20230528_174323 |              ['Code', 'Chatbot', 'OpenAI']              |                                          This chat, named \"CodeChat\", is a chatbot designed to interact with and provide assistance on code using the OpenAI chat API.                                          |\n",
       "|                                               | 20230528_215454 |                            []                           |                                                Unfortunately, I don't have access to the chat history between us, so I am unable to describe it in one sentence.                                                |\n",
       "|                Sleep_Golf_Time                | 20230528_221409 |                ['Sleep', 'Golf', 'Time']                |                                                                This chat was about sleep, bedtimes, and scheduling for an early morning tee time.                                                               |\n",
       "| Economics_Labor market_Unemployment insurance | 20230529_103335 | ['Economics', 'Labor market', 'Unemployment insurance'] |                          This chat involved the user asking questions about the meaning of specific phrases in an abstract and receiving clear explanations from the AI language model.                         |\n",
       "|    Brainstorming_Generative AI_Productivity   | 20230529_170759 |    ['Brainstorming', 'Generative AI', 'Productivity']   | This chat was a conversation between a user seeking advice on how to run a brainstorming session on utilizing generative AI with their team, and an AI assistant who provided tips on how to do so effectively. |\n",
       "| Minecraft-Screen_Time-Balance-20230530_175401 | 20230530_175401 |         ['Minecraft', 'Screen Time', 'Balance']         |                                  This chat is a conversation between a user and an AI language model, discussing topics such as Minecraft usage and setting appropriate limits.                                 |\n",
       "+-----------------------------------------------+-----------------+---------------------------------------------------------+-----------------------------------------------------------------------------------------------------------------------------------------------------------------------------------------------------------------+"
      ]
     },
     "execution_count": 11,
     "metadata": {},
     "output_type": "execute_result"
    }
   ],
   "source": [
    "db.summarise()"
   ]
  },
  {
   "cell_type": "code",
   "execution_count": 12,
   "metadata": {},
   "outputs": [],
   "source": [
    "db.close()"
   ]
  },
  {
   "attachments": {},
   "cell_type": "markdown",
   "metadata": {},
   "source": []
  }
 ],
 "metadata": {
  "kernelspec": {
   "display_name": "Python 3",
   "language": "python",
   "name": "python3"
  },
  "language_info": {
   "codemirror_mode": {
    "name": "ipython",
    "version": 3
   },
   "file_extension": ".py",
   "mimetype": "text/x-python",
   "name": "python",
   "nbconvert_exporter": "python",
   "pygments_lexer": "ipython3",
   "version": "3.8.0"
  },
  "orig_nbformat": 4
 },
 "nbformat": 4,
 "nbformat_minor": 2
}

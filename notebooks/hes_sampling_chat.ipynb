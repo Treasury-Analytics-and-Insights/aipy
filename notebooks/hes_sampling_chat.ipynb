{
 "cells": [
  {
   "cell_type": "code",
   "execution_count": 1,
   "metadata": {},
   "outputs": [],
   "source": [
    "from aipy.ai import *"
   ]
  },
  {
   "cell_type": "code",
   "execution_count": 2,
   "metadata": {},
   "outputs": [
    {
     "name": "stdout",
     "output_type": "stream",
     "text": [
      "Opening chat database: C:\\Users\\DavisC\\OneDrive - Central Agencies Shared Services\\chats.json\n"
     ]
    }
   ],
   "source": [
    "db = ChatDB()"
   ]
  },
  {
   "cell_type": "code",
   "execution_count": 3,
   "metadata": {},
   "outputs": [
    {
     "data": {
      "text/plain": [
       "\"- HES expenditure survey doesn't accurately reflect annual household expenditure\\n- Reported as annual values but usually based on only one week of expenditure or the most recent bill annualized\\n- Survey designed for calculating CPI weightings, therefore not suitable for estimating the spread of annual expenditure within groups\\n- Ratio of means over groups used for presenting the impact on household expenditure\\n- Example of petrol expenditure demonstrates the problem\\n- Many households not purchasing petrol during the week of the survey, resulting in a higher proportion of zero annual petrol expenditure\\n- This leads to incorrect lower percentiles of annual expenditure and unrealistically high values for high percentiles.\""
      ]
     },
     "execution_count": 3,
     "metadata": {},
     "output_type": "execute_result"
    }
   ],
   "source": [
    "chat = Chat()\n",
    "chat.ask(\"Here is some text, that I want you to summarise into bullet points for a presentation slide: \"\n",
    "         \"The HES expenditure survey does not provide a realistic distribution of annual household expenditure\\n\"\n",
    "         \"Although the HES household expenditures are reported as annual values, they do not represent the \"\n",
    "         \"annual expenditure for any given household.  They are either a single week of household expenditure,\"\n",
    "         \" as reported in the survey diary, multiplied by 52.14, or for some categories such as electricity \"\n",
    "         \"and reticulated gas, the most recent bill annualised by scaling up by the appropriate factor.  \"\n",
    "         \"The expenditure survey was designed in this way to efficiently produce reliable mean and total \"\n",
    "         \"expenditure for the purpose of calculating CPI weightings; the unrepresentativeness of a households’ \"\n",
    "         \"single week of expenditure is smoothed out by averaging across the population and over different \"\n",
    "         \"times of the year.   We cannot use these annualised expenditures to estimate statistics that describe\"\n",
    "         \" the spread of annual expenditure within groups, such as quantiles .  With this in mind, we restrict \"\n",
    "         \"our discussion to the mean annual expenditure over different groups.  Although we can provide richer \"\n",
    "         \"information on the income distribution, when presenting the impact on household expenditure, relative \"\n",
    "         \"to their disposable income, for consistency with the treatment of expenditure, we present the ratio of means over groups of interest.\"\n",
    "         \"Petrol expenditure illustrates this problem.  Many households will not purchase petrol during the week of their expenditure diary (anecdotally, this author buys petrol at most once every two weeks), but in reality will have significant annual petrol expenditure.  Their annualised petrol expenditure recorded in the survey will be zero.  The proportion of households with zero annual petrol expenditure is signficantly  higher in the survey than it is in reality, and as a result the lower percentiles of annual expenditure will be incorrect.  A similar argument applies to high percentiles, where non-zero petrol expenditure is annualised to unrealistically high values\")"
   ]
  },
  {
   "cell_type": "code",
   "execution_count": 4,
   "metadata": {},
   "outputs": [
    {
     "name": "stdout",
     "output_type": "stream",
     "text": [
      "You are wise and helpful.\n",
      "\n",
      "-----------------------------------------\n",
      "\n",
      "Here is some text, that I want you to summarise into bullet points for a presentation slide: The HES expenditure survey does not provide a realistic distribution of annual household expenditure\n",
      "Although the HES household expenditures are reported as annual values, they do not represent the annual expenditure for any given household.  They are either a single week of household expenditure, as reported in the survey diary, multiplied by 52.14, or for some categories such as electricity and reticulated gas, the most recent bill annualised by scaling up by the appropriate factor.  The expenditure survey was designed in this way to efficiently produce reliable mean and total expenditure for the purpose of calculating CPI weightings; the unrepresentativeness of a households’ single week of expenditure is smoothed out by averaging across the population and over different times of the year.   We cannot use these annualised expenditures to estimate statistics that describe the spread of annual expenditure within groups, such as quantiles .  With this in mind, we restrict our discussion to the mean annual expenditure over different groups.  Although we can provide richer information on the income distribution, when presenting the impact on household expenditure, relative to their disposable income, for consistency with the treatment of expenditure, we present the ratio of means over groups of interest.Petrol expenditure illustrates this problem.  Many households will not purchase petrol during the week of their expenditure diary (anecdotally, this author buys petrol at most once every two weeks), but in reality will have significant annual petrol expenditure.  Their annualised petrol expenditure recorded in the survey will be zero.  The proportion of households with zero annual petrol expenditure is signficantly  higher in the survey than it is in reality, and as a result the lower percentiles of annual expenditure will be incorrect.  A similar argument applies to high percentiles, where non-zero petrol expenditure is annualised to unrealistically high values\n",
      "\n",
      "-----------------------------------------\n",
      "\n",
      "- HES expenditure survey doesn't accurately reflect annual household expenditure\n",
      "- Reported as annual values but usually based on only one week of expenditure or the most recent bill annualized\n",
      "- Survey designed for calculating CPI weightings, therefore not suitable for estimating the spread of annual expenditure within groups\n",
      "- Ratio of means over groups used for presenting the impact on household expenditure\n",
      "- Example of petrol expenditure demonstrates the problem\n",
      "- Many households not purchasing petrol during the week of the survey, resulting in a higher proportion of zero annual petrol expenditure\n",
      "- This leads to incorrect lower percentiles of annual expenditure and unrealistically high values for high percentiles.\n"
     ]
    }
   ],
   "source": [
    "chat.print()"
   ]
  },
  {
   "cell_type": "code",
   "execution_count": 5,
   "metadata": {},
   "outputs": [],
   "source": [
    "db.store(chat)"
   ]
  },
  {
   "cell_type": "code",
   "execution_count": 6,
   "metadata": {},
   "outputs": [
    {
     "name": "stdout",
     "output_type": "stream",
     "text": [
      "+-------------------------------------------------------------+-----------------+---------------------------------------------------------+--------------------------------------------------------------------------------------------------------------------------------------------------------------------------------------------------------------------------+\n",
      "|                             Name                            |       Date      |                          Topics                         |                                                                                                         Summary                                                                                                          |\n",
      "+-------------------------------------------------------------+-----------------+---------------------------------------------------------+--------------------------------------------------------------------------------------------------------------------------------------------------------------------------------------------------------------------------+\n",
      "|                     Code_Chatbot_OpenAI                     | 20230528_174323 |              ['Code', 'Chatbot', 'OpenAI']              |                                              This chat, named \"CodeChat\", is a chatbot designed to interact with and provide assistance on code using the OpenAI chat API.                                               |\n",
      "|                                                             | 20230528_215454 |                            []                           |                                                    Unfortunately, I don't have access to the chat history between us, so I am unable to describe it in one sentence.                                                     |\n",
      "|                       Sleep_Golf_Time                       | 20230528_221409 |                ['Sleep', 'Golf', 'Time']                |                                                                    This chat was about sleep, bedtimes, and scheduling for an early morning tee time.                                                                    |\n",
      "|        Economics_Labor market_Unemployment insurance        | 20230529_103335 | ['Economics', 'Labor market', 'Unemployment insurance'] |                              This chat involved the user asking questions about the meaning of specific phrases in an abstract and receiving clear explanations from the AI language model.                              |\n",
      "|           Brainstorming_Generative AI_Productivity          | 20230529_170759 |    ['Brainstorming', 'Generative AI', 'Productivity']   |     This chat was a conversation between a user seeking advice on how to run a brainstorming session on utilizing generative AI with their team, and an AI assistant who provided tips on how to do so effectively.      |\n",
      "|        Minecraft-Screen_Time-Balance-20230530_175401        | 20230530_175401 |         ['Minecraft', 'Screen Time', 'Balance']         |                                      This chat is a conversation between a user and an AI language model, discussing topics such as Minecraft usage and setting appropriate limits.                                      |\n",
      "|  Economics-Stationarity-Comparative_statics-20230609_154848 | 20230609_154848 |   ['Economics', 'Stationarity', 'Comparative statics']  |        This chat is a conversation between a user and an AI assistant about various topics related to economics and quantitative analysis, including regression analysis, stationarity, and comparative statics.         |\n",
      "|        Productivity-Health-Ergonomics-20230612_134741       | 20230612_134741 |        ['Productivity', 'Ergonomics', 'Wellness']       |                                                        A helpful conversation on the topic of standing desks and the recommended time to spend standing at them.                                                         |\n",
      "| RShiny-Data_Visualization-Python_Conversion-20230616_095055 | 20230616_095055 |  ['RShiny', 'Data Visualization', 'Python Conversion']  |                                         The code converts an RShiny app that visualizes income distributions for households and families in New Zealand into a Python Dash app.                                          |\n",
      "|    Productivity-Technology-Communication-20230616_111129    | 20230616_111129 |     ['Technology', 'Productivity', 'Communication']     |                                    This chat is about providing assistance and solutions to various questions related to text editing, file conversion, Python programming and HTML.                                     |\n",
      "|         Expenditure-Survey-Household-20230619_152429        | 20230619_152429 |          ['Expenditure', 'Survey', 'Household']         | The chat discusses the limitations of the HES expenditure survey in accurately reflecting annual household expenditure and proposes presenting the impact on household expenditure using the ratio of means over groups. |\n",
      "+-------------------------------------------------------------+-----------------+---------------------------------------------------------+--------------------------------------------------------------------------------------------------------------------------------------------------------------------------------------------------------------------------+\n"
     ]
    },
    {
     "data": {
      "text/html": [
       "<table>\n",
       "    <thead>\n",
       "        <tr>\n",
       "            <th>Name</th>\n",
       "            <th>Date</th>\n",
       "            <th>Topics</th>\n",
       "            <th>Summary</th>\n",
       "        </tr>\n",
       "    </thead>\n",
       "    <tbody>\n",
       "        <tr>\n",
       "            <td>Code_Chatbot_OpenAI</td>\n",
       "            <td>20230528_174323</td>\n",
       "            <td>[&#x27;Code&#x27;, &#x27;Chatbot&#x27;, &#x27;OpenAI&#x27;]</td>\n",
       "            <td>This chat, named &quot;CodeChat&quot;, is a chatbot designed to interact with and provide assistance on code using the OpenAI chat API.</td>\n",
       "        </tr>\n",
       "        <tr>\n",
       "            <td></td>\n",
       "            <td>20230528_215454</td>\n",
       "            <td>[]</td>\n",
       "            <td>Unfortunately, I don&#x27;t have access to the chat history between us, so I am unable to describe it in one sentence.</td>\n",
       "        </tr>\n",
       "        <tr>\n",
       "            <td>Sleep_Golf_Time</td>\n",
       "            <td>20230528_221409</td>\n",
       "            <td>[&#x27;Sleep&#x27;, &#x27;Golf&#x27;, &#x27;Time&#x27;]</td>\n",
       "            <td>This chat was about sleep, bedtimes, and scheduling for an early morning tee time.</td>\n",
       "        </tr>\n",
       "        <tr>\n",
       "            <td>Economics_Labor market_Unemployment insurance</td>\n",
       "            <td>20230529_103335</td>\n",
       "            <td>[&#x27;Economics&#x27;, &#x27;Labor market&#x27;, &#x27;Unemployment insurance&#x27;]</td>\n",
       "            <td>This chat involved the user asking questions about the meaning of specific phrases in an abstract and receiving clear explanations from the AI language model.</td>\n",
       "        </tr>\n",
       "        <tr>\n",
       "            <td>Brainstorming_Generative AI_Productivity</td>\n",
       "            <td>20230529_170759</td>\n",
       "            <td>[&#x27;Brainstorming&#x27;, &#x27;Generative AI&#x27;, &#x27;Productivity&#x27;]</td>\n",
       "            <td>This chat was a conversation between a user seeking advice on how to run a brainstorming session on utilizing generative AI with their team, and an AI assistant who provided tips on how to do so effectively.</td>\n",
       "        </tr>\n",
       "        <tr>\n",
       "            <td>Minecraft-Screen_Time-Balance-20230530_175401</td>\n",
       "            <td>20230530_175401</td>\n",
       "            <td>[&#x27;Minecraft&#x27;, &#x27;Screen Time&#x27;, &#x27;Balance&#x27;]</td>\n",
       "            <td>This chat is a conversation between a user and an AI language model, discussing topics such as Minecraft usage and setting appropriate limits.</td>\n",
       "        </tr>\n",
       "        <tr>\n",
       "            <td>Economics-Stationarity-Comparative_statics-20230609_154848</td>\n",
       "            <td>20230609_154848</td>\n",
       "            <td>[&#x27;Economics&#x27;, &#x27;Stationarity&#x27;, &#x27;Comparative statics&#x27;]</td>\n",
       "            <td>This chat is a conversation between a user and an AI assistant about various topics related to economics and quantitative analysis, including regression analysis, stationarity, and comparative statics.</td>\n",
       "        </tr>\n",
       "        <tr>\n",
       "            <td>Productivity-Health-Ergonomics-20230612_134741</td>\n",
       "            <td>20230612_134741</td>\n",
       "            <td>[&#x27;Productivity&#x27;, &#x27;Ergonomics&#x27;, &#x27;Wellness&#x27;]</td>\n",
       "            <td>A helpful conversation on the topic of standing desks and the recommended time to spend standing at them.</td>\n",
       "        </tr>\n",
       "        <tr>\n",
       "            <td>RShiny-Data_Visualization-Python_Conversion-20230616_095055</td>\n",
       "            <td>20230616_095055</td>\n",
       "            <td>[&#x27;RShiny&#x27;, &#x27;Data Visualization&#x27;, &#x27;Python Conversion&#x27;]</td>\n",
       "            <td>The code converts an RShiny app that visualizes income distributions for households and families in New Zealand into a Python Dash app.</td>\n",
       "        </tr>\n",
       "        <tr>\n",
       "            <td>Productivity-Technology-Communication-20230616_111129</td>\n",
       "            <td>20230616_111129</td>\n",
       "            <td>[&#x27;Technology&#x27;, &#x27;Productivity&#x27;, &#x27;Communication&#x27;]</td>\n",
       "            <td>This chat is about providing assistance and solutions to various questions related to text editing, file conversion, Python programming and HTML.</td>\n",
       "        </tr>\n",
       "        <tr>\n",
       "            <td>Expenditure-Survey-Household-20230619_152429</td>\n",
       "            <td>20230619_152429</td>\n",
       "            <td>[&#x27;Expenditure&#x27;, &#x27;Survey&#x27;, &#x27;Household&#x27;]</td>\n",
       "            <td>The chat discusses the limitations of the HES expenditure survey in accurately reflecting annual household expenditure and proposes presenting the impact on household expenditure using the ratio of means over groups.</td>\n",
       "        </tr>\n",
       "    </tbody>\n",
       "</table>"
      ],
      "text/plain": [
       "+-------------------------------------------------------------+-----------------+---------------------------------------------------------+--------------------------------------------------------------------------------------------------------------------------------------------------------------------------------------------------------------------------+\n",
       "|                             Name                            |       Date      |                          Topics                         |                                                                                                         Summary                                                                                                          |\n",
       "+-------------------------------------------------------------+-----------------+---------------------------------------------------------+--------------------------------------------------------------------------------------------------------------------------------------------------------------------------------------------------------------------------+\n",
       "|                     Code_Chatbot_OpenAI                     | 20230528_174323 |              ['Code', 'Chatbot', 'OpenAI']              |                                              This chat, named \"CodeChat\", is a chatbot designed to interact with and provide assistance on code using the OpenAI chat API.                                               |\n",
       "|                                                             | 20230528_215454 |                            []                           |                                                    Unfortunately, I don't have access to the chat history between us, so I am unable to describe it in one sentence.                                                     |\n",
       "|                       Sleep_Golf_Time                       | 20230528_221409 |                ['Sleep', 'Golf', 'Time']                |                                                                    This chat was about sleep, bedtimes, and scheduling for an early morning tee time.                                                                    |\n",
       "|        Economics_Labor market_Unemployment insurance        | 20230529_103335 | ['Economics', 'Labor market', 'Unemployment insurance'] |                              This chat involved the user asking questions about the meaning of specific phrases in an abstract and receiving clear explanations from the AI language model.                              |\n",
       "|           Brainstorming_Generative AI_Productivity          | 20230529_170759 |    ['Brainstorming', 'Generative AI', 'Productivity']   |     This chat was a conversation between a user seeking advice on how to run a brainstorming session on utilizing generative AI with their team, and an AI assistant who provided tips on how to do so effectively.      |\n",
       "|        Minecraft-Screen_Time-Balance-20230530_175401        | 20230530_175401 |         ['Minecraft', 'Screen Time', 'Balance']         |                                      This chat is a conversation between a user and an AI language model, discussing topics such as Minecraft usage and setting appropriate limits.                                      |\n",
       "|  Economics-Stationarity-Comparative_statics-20230609_154848 | 20230609_154848 |   ['Economics', 'Stationarity', 'Comparative statics']  |        This chat is a conversation between a user and an AI assistant about various topics related to economics and quantitative analysis, including regression analysis, stationarity, and comparative statics.         |\n",
       "|        Productivity-Health-Ergonomics-20230612_134741       | 20230612_134741 |        ['Productivity', 'Ergonomics', 'Wellness']       |                                                        A helpful conversation on the topic of standing desks and the recommended time to spend standing at them.                                                         |\n",
       "| RShiny-Data_Visualization-Python_Conversion-20230616_095055 | 20230616_095055 |  ['RShiny', 'Data Visualization', 'Python Conversion']  |                                         The code converts an RShiny app that visualizes income distributions for households and families in New Zealand into a Python Dash app.                                          |\n",
       "|    Productivity-Technology-Communication-20230616_111129    | 20230616_111129 |     ['Technology', 'Productivity', 'Communication']     |                                    This chat is about providing assistance and solutions to various questions related to text editing, file conversion, Python programming and HTML.                                     |\n",
       "|         Expenditure-Survey-Household-20230619_152429        | 20230619_152429 |          ['Expenditure', 'Survey', 'Household']         | The chat discusses the limitations of the HES expenditure survey in accurately reflecting annual household expenditure and proposes presenting the impact on household expenditure using the ratio of means over groups. |\n",
       "+-------------------------------------------------------------+-----------------+---------------------------------------------------------+--------------------------------------------------------------------------------------------------------------------------------------------------------------------------------------------------------------------------+"
      ]
     },
     "execution_count": 6,
     "metadata": {},
     "output_type": "execute_result"
    }
   ],
   "source": [
    "db.summarise()"
   ]
  },
  {
   "cell_type": "code",
   "execution_count": 7,
   "metadata": {},
   "outputs": [],
   "source": [
    "db.close()"
   ]
  }
 ],
 "metadata": {
  "kernelspec": {
   "display_name": "Python 3",
   "language": "python",
   "name": "python3"
  },
  "language_info": {
   "codemirror_mode": {
    "name": "ipython",
    "version": 3
   },
   "file_extension": ".py",
   "mimetype": "text/x-python",
   "name": "python",
   "nbconvert_exporter": "python",
   "pygments_lexer": "ipython3",
   "version": "3.8.0"
  },
  "orig_nbformat": 4
 },
 "nbformat": 4,
 "nbformat_minor": 2
}

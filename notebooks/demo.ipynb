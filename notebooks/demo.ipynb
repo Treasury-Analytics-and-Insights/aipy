{
 "cells": [
  {
   "attachments": {},
   "cell_type": "markdown",
   "metadata": {},
   "source": [
    "# Demo of aipy"
   ]
  },
  {
   "cell_type": "code",
   "execution_count": 1,
   "metadata": {},
   "outputs": [],
   "source": [
    "import sys\n",
    "sys.path.append('..')\n",
    "\n",
    "from tinydb import Query\n",
    "\n",
    "from aipy.ai import *\n"
   ]
  },
  {
   "attachments": {},
   "cell_type": "markdown",
   "metadata": {},
   "source": [
    "## Load the DB of existing chats, and summarize it"
   ]
  },
  {
   "cell_type": "code",
   "execution_count": 2,
   "metadata": {},
   "outputs": [
    {
     "name": "stdout",
     "output_type": "stream",
     "text": [
      "+---------------------+-----------------+-------------------------------+-------------------------------------------------------------------------------------------------------------------------------+\n",
      "|         Name        |       Date      |             Topics            |                                                            Summary                                                            |\n",
      "+---------------------+-----------------+-------------------------------+-------------------------------------------------------------------------------------------------------------------------------+\n",
      "| Code_Chatbot_OpenAI | 20230528_174323 | ['Code', 'Chatbot', 'OpenAI'] | This chat, named \"CodeChat\", is a chatbot designed to interact with and provide assistance on code using the OpenAI chat API. |\n",
      "|                     | 20230528_215454 |               []              |       Unfortunately, I don't have access to the chat history between us, so I am unable to describe it in one sentence.       |\n",
      "|   Sleep_Golf_Time   | 20230528_221409 |   ['Sleep', 'Golf', 'Time']   |                       This chat was about sleep, bedtimes, and scheduling for an early morning tee time.                      |\n",
      "+---------------------+-----------------+-------------------------------+-------------------------------------------------------------------------------------------------------------------------------+\n"
     ]
    },
    {
     "data": {
      "text/html": [
       "<table>\n",
       "    <thead>\n",
       "        <tr>\n",
       "            <th>Name</th>\n",
       "            <th>Date</th>\n",
       "            <th>Topics</th>\n",
       "            <th>Summary</th>\n",
       "        </tr>\n",
       "    </thead>\n",
       "    <tbody>\n",
       "        <tr>\n",
       "            <td>Code_Chatbot_OpenAI</td>\n",
       "            <td>20230528_174323</td>\n",
       "            <td>[&#x27;Code&#x27;, &#x27;Chatbot&#x27;, &#x27;OpenAI&#x27;]</td>\n",
       "            <td>This chat, named &quot;CodeChat&quot;, is a chatbot designed to interact with and provide assistance on code using the OpenAI chat API.</td>\n",
       "        </tr>\n",
       "        <tr>\n",
       "            <td></td>\n",
       "            <td>20230528_215454</td>\n",
       "            <td>[]</td>\n",
       "            <td>Unfortunately, I don&#x27;t have access to the chat history between us, so I am unable to describe it in one sentence.</td>\n",
       "        </tr>\n",
       "        <tr>\n",
       "            <td>Sleep_Golf_Time</td>\n",
       "            <td>20230528_221409</td>\n",
       "            <td>[&#x27;Sleep&#x27;, &#x27;Golf&#x27;, &#x27;Time&#x27;]</td>\n",
       "            <td>This chat was about sleep, bedtimes, and scheduling for an early morning tee time.</td>\n",
       "        </tr>\n",
       "    </tbody>\n",
       "</table>"
      ],
      "text/plain": [
       "+---------------------+-----------------+-------------------------------+-------------------------------------------------------------------------------------------------------------------------------+\n",
       "|         Name        |       Date      |             Topics            |                                                            Summary                                                            |\n",
       "+---------------------+-----------------+-------------------------------+-------------------------------------------------------------------------------------------------------------------------------+\n",
       "| Code_Chatbot_OpenAI | 20230528_174323 | ['Code', 'Chatbot', 'OpenAI'] | This chat, named \"CodeChat\", is a chatbot designed to interact with and provide assistance on code using the OpenAI chat API. |\n",
       "|                     | 20230528_215454 |               []              |       Unfortunately, I don't have access to the chat history between us, so I am unable to describe it in one sentence.       |\n",
       "|   Sleep_Golf_Time   | 20230528_221409 |   ['Sleep', 'Golf', 'Time']   |                       This chat was about sleep, bedtimes, and scheduling for an early morning tee time.                      |\n",
       "+---------------------+-----------------+-------------------------------+-------------------------------------------------------------------------------------------------------------------------------+"
      ]
     },
     "execution_count": 2,
     "metadata": {},
     "output_type": "execute_result"
    }
   ],
   "source": [
    "db = ChatDB('chats.json')\n",
    "db.summarise()"
   ]
  },
  {
   "attachments": {},
   "cell_type": "markdown",
   "metadata": {},
   "source": [
    "## start a new chat"
   ]
  },
  {
   "cell_type": "code",
   "execution_count": 3,
   "metadata": {},
   "outputs": [],
   "source": [
    "new_chat = Chat()"
   ]
  },
  {
   "cell_type": "code",
   "execution_count": 5,
   "metadata": {},
   "outputs": [
    {
     "data": {
      "text/plain": [
       "\"This abstract suggests that workers' savings can affect how well they perform at work. If workers have low savings, they may focus on finding jobs that offer more security, even if they pay less. However, if a worker has a way to smooth out their income (such as through unemployment insurance), they may be more willing to take higher-paying, higher-productivity jobs. The study also examines how increasing unemployment insurance benefits can affect the overall economy and workers' welfare.\""
      ]
     },
     "execution_count": 5,
     "metadata": {},
     "output_type": "execute_result"
    }
   ],
   "source": [
    "new_chat.ask('Please summarise this abstract for me in plain english: We propose a theory that analyzes how a workers’ asset holdings affect their job productivity. In a labor market with uninsurable risk, workers choose to direct their job search trading off productivity and wages against unemployment risk. Workers with low asset holdings have a precautionary job search motive, they direct their search to low productivity jobs because those offer a low risk at the cost of low productivity and a low wage. Our main theoretical contribution shows that the presence of consumption smoothing can reconcile the directed search model with negative duration-dependence on wages, a robust empirical regularity that the canonical directed search model cannot rationalize. We calibrate the infinite horizon economy and find this mechanism to be quantitatively important. We evaluate a tax financed unemployment insurance (UI) scheme and analyze how it affects welfare. Aggregate welfare is inverted U-shaped in benefits: the insurance effect UI dominates the incentive effects for low levels of benefits and vice versa for high benefits. In addition, when UI increases, total production falls in the economy while worker productivity increases.')"
   ]
  },
  {
   "cell_type": "code",
   "execution_count": 6,
   "metadata": {},
   "outputs": [
    {
     "data": {
      "text/plain": [
       "\"Consumption smoothing is a financial strategy that aims to maintain a steady level of spending over time by saving during periods of higher income or wealth and spending during periods of lower income or wealth. In the context of this abstract, the authors suggest that workers with low asset holdings may choose low productivity jobs with low wages to minimize their income volatility if they are concerned about a sudden drop in their income or if they lack the ability to smooth consumption over time. However, if they have a method for smoothing out their income, such as unemployment insurance, they may feel more comfortable taking higher-paying jobs that have higher levels of productivity. Therefore, the ability to smooth consumption has an impact on workers' job choices and productivity.\""
      ]
     },
     "execution_count": 6,
     "metadata": {},
     "output_type": "execute_result"
    }
   ],
   "source": [
    "new_chat.ask('what do they mean by \"consumption smoothing\"')"
   ]
  },
  {
   "cell_type": "code",
   "execution_count": 7,
   "metadata": {},
   "outputs": [
    {
     "data": {
      "text/plain": [
       "'The sentence \"Aggregate welfare is inverted U-shaped in benefits\" means that the total welfare (i.e., well-being or happiness) of the economy changes in response to changes in the level of unemployment insurance benefits. An inverted U-shape indicates that the welfare first increases with higher benefits and then decreases after passing a certain point. In simpler terms, when unemployment insurance benefits are low, increasing them can improve the overall welfare of the economy because it provides more protection for workers. However, if benefits become too high, it may create disincentives for people to work and reduce overall production in the economy, leading to a decrease in overall welfare. Therefore, there may be an optimal level of benefits that maximizes the welfare of the economy, which is somewhere in the middle (i.e., the peak of the inverted U-shape).'"
      ]
     },
     "execution_count": 7,
     "metadata": {},
     "output_type": "execute_result"
    }
   ],
   "source": [
    "new_chat.ask(\"what do they mean by 'Aggregate welfare is inverted U-shaped in benefits'\")"
   ]
  },
  {
   "cell_type": "code",
   "execution_count": 8,
   "metadata": {},
   "outputs": [
    {
     "name": "stdout",
     "output_type": "stream",
     "text": [
      "You are wise and helpful.\n",
      "\n",
      "-----------------------------------------\n",
      "\n",
      "Please summarise this abstract for me in plain english: We propose a theory that analyzes how a workers’ asset holdings affect their job productivity. In a labor market with uninsurable risk, workers choose to direct their job search trading off productivity and wages against unemployment risk. Workers with low asset holdings have a precautionary job search motive, they direct their search to low productivity jobs because those offer a low risk at the cost of low productivity and a low wage. Our main theoretical contribution shows that the presence of consumption smoothing can reconcile the directed search model with negative duration-dependence on wages, a robust empirical regularity that the canonical directed search model cannot rationalize. We calibrate the infinite horizon economy and find this mechanism to be quantitatively important. We evaluate a tax financed unemployment insurance (UI) scheme and analyze how it affects welfare. Aggregate welfare is inverted U-shaped in benefits: the insurance effect UI dominates the incentive effects for low levels of benefits and vice versa for high benefits. In addition, when UI increases, total production falls in the economy while worker productivity increases.\n",
      "\n",
      "-----------------------------------------\n",
      "\n",
      "This abstract suggests that workers' savings can affect how well they perform at work. If workers have low savings, they may focus on finding jobs that offer more security, even if they pay less. However, if a worker has a way to smooth out their income (such as through unemployment insurance), they may be more willing to take higher-paying, higher-productivity jobs. The study also examines how increasing unemployment insurance benefits can affect the overall economy and workers' welfare.\n",
      "\n",
      "-----------------------------------------\n",
      "\n",
      "what do they mean by \"consumption smoothing\"\n",
      "\n",
      "-----------------------------------------\n",
      "\n",
      "Consumption smoothing is a financial strategy that aims to maintain a steady level of spending over time by saving during periods of higher income or wealth and spending during periods of lower income or wealth. In the context of this abstract, the authors suggest that workers with low asset holdings may choose low productivity jobs with low wages to minimize their income volatility if they are concerned about a sudden drop in their income or if they lack the ability to smooth consumption over time. However, if they have a method for smoothing out their income, such as unemployment insurance, they may feel more comfortable taking higher-paying jobs that have higher levels of productivity. Therefore, the ability to smooth consumption has an impact on workers' job choices and productivity.\n",
      "\n",
      "-----------------------------------------\n",
      "\n",
      "what do they mean by 'Aggregate welfare is inverted U-shaped in benefits'\n",
      "\n",
      "-----------------------------------------\n",
      "\n",
      "The sentence \"Aggregate welfare is inverted U-shaped in benefits\" means that the total welfare (i.e., well-being or happiness) of the economy changes in response to changes in the level of unemployment insurance benefits. An inverted U-shape indicates that the welfare first increases with higher benefits and then decreases after passing a certain point. In simpler terms, when unemployment insurance benefits are low, increasing them can improve the overall welfare of the economy because it provides more protection for workers. However, if benefits become too high, it may create disincentives for people to work and reduce overall production in the economy, leading to a decrease in overall welfare. Therefore, there may be an optimal level of benefits that maximizes the welfare of the economy, which is somewhere in the middle (i.e., the peak of the inverted U-shape).\n"
     ]
    }
   ],
   "source": [
    "new_chat.print()"
   ]
  },
  {
   "attachments": {},
   "cell_type": "markdown",
   "metadata": {},
   "source": [
    "## and store it in the DB"
   ]
  },
  {
   "cell_type": "code",
   "execution_count": 9,
   "metadata": {},
   "outputs": [],
   "source": [
    "db.store(new_chat)"
   ]
  },
  {
   "cell_type": "code",
   "execution_count": 10,
   "metadata": {},
   "outputs": [
    {
     "name": "stdout",
     "output_type": "stream",
     "text": [
      "+-----------------------------------------------+-----------------+---------------------------------------------------------+----------------------------------------------------------------------------------------------------------------------------------------------------------------+\n",
      "|                      Name                     |       Date      |                          Topics                         |                                                                            Summary                                                                             |\n",
      "+-----------------------------------------------+-----------------+---------------------------------------------------------+----------------------------------------------------------------------------------------------------------------------------------------------------------------+\n",
      "|              Code_Chatbot_OpenAI              | 20230528_174323 |              ['Code', 'Chatbot', 'OpenAI']              |                 This chat, named \"CodeChat\", is a chatbot designed to interact with and provide assistance on code using the OpenAI chat API.                  |\n",
      "|                                               | 20230528_215454 |                            []                           |                       Unfortunately, I don't have access to the chat history between us, so I am unable to describe it in one sentence.                        |\n",
      "|                Sleep_Golf_Time                | 20230528_221409 |                ['Sleep', 'Golf', 'Time']                |                                       This chat was about sleep, bedtimes, and scheduling for an early morning tee time.                                       |\n",
      "| Economics_Labor market_Unemployment insurance | 20230529_103335 | ['Economics', 'Labor market', 'Unemployment insurance'] | This chat involved the user asking questions about the meaning of specific phrases in an abstract and receiving clear explanations from the AI language model. |\n",
      "+-----------------------------------------------+-----------------+---------------------------------------------------------+----------------------------------------------------------------------------------------------------------------------------------------------------------------+\n"
     ]
    },
    {
     "data": {
      "text/html": [
       "<table>\n",
       "    <thead>\n",
       "        <tr>\n",
       "            <th>Name</th>\n",
       "            <th>Date</th>\n",
       "            <th>Topics</th>\n",
       "            <th>Summary</th>\n",
       "        </tr>\n",
       "    </thead>\n",
       "    <tbody>\n",
       "        <tr>\n",
       "            <td>Code_Chatbot_OpenAI</td>\n",
       "            <td>20230528_174323</td>\n",
       "            <td>[&#x27;Code&#x27;, &#x27;Chatbot&#x27;, &#x27;OpenAI&#x27;]</td>\n",
       "            <td>This chat, named &quot;CodeChat&quot;, is a chatbot designed to interact with and provide assistance on code using the OpenAI chat API.</td>\n",
       "        </tr>\n",
       "        <tr>\n",
       "            <td></td>\n",
       "            <td>20230528_215454</td>\n",
       "            <td>[]</td>\n",
       "            <td>Unfortunately, I don&#x27;t have access to the chat history between us, so I am unable to describe it in one sentence.</td>\n",
       "        </tr>\n",
       "        <tr>\n",
       "            <td>Sleep_Golf_Time</td>\n",
       "            <td>20230528_221409</td>\n",
       "            <td>[&#x27;Sleep&#x27;, &#x27;Golf&#x27;, &#x27;Time&#x27;]</td>\n",
       "            <td>This chat was about sleep, bedtimes, and scheduling for an early morning tee time.</td>\n",
       "        </tr>\n",
       "        <tr>\n",
       "            <td>Economics_Labor market_Unemployment insurance</td>\n",
       "            <td>20230529_103335</td>\n",
       "            <td>[&#x27;Economics&#x27;, &#x27;Labor market&#x27;, &#x27;Unemployment insurance&#x27;]</td>\n",
       "            <td>This chat involved the user asking questions about the meaning of specific phrases in an abstract and receiving clear explanations from the AI language model.</td>\n",
       "        </tr>\n",
       "    </tbody>\n",
       "</table>"
      ],
      "text/plain": [
       "+-----------------------------------------------+-----------------+---------------------------------------------------------+----------------------------------------------------------------------------------------------------------------------------------------------------------------+\n",
       "|                      Name                     |       Date      |                          Topics                         |                                                                            Summary                                                                             |\n",
       "+-----------------------------------------------+-----------------+---------------------------------------------------------+----------------------------------------------------------------------------------------------------------------------------------------------------------------+\n",
       "|              Code_Chatbot_OpenAI              | 20230528_174323 |              ['Code', 'Chatbot', 'OpenAI']              |                 This chat, named \"CodeChat\", is a chatbot designed to interact with and provide assistance on code using the OpenAI chat API.                  |\n",
       "|                                               | 20230528_215454 |                            []                           |                       Unfortunately, I don't have access to the chat history between us, so I am unable to describe it in one sentence.                        |\n",
       "|                Sleep_Golf_Time                | 20230528_221409 |                ['Sleep', 'Golf', 'Time']                |                                       This chat was about sleep, bedtimes, and scheduling for an early morning tee time.                                       |\n",
       "| Economics_Labor market_Unemployment insurance | 20230529_103335 | ['Economics', 'Labor market', 'Unemployment insurance'] | This chat involved the user asking questions about the meaning of specific phrases in an abstract and receiving clear explanations from the AI language model. |\n",
       "+-----------------------------------------------+-----------------+---------------------------------------------------------+----------------------------------------------------------------------------------------------------------------------------------------------------------------+"
      ]
     },
     "execution_count": 10,
     "metadata": {},
     "output_type": "execute_result"
    }
   ],
   "source": [
    "db.summarise()"
   ]
  },
  {
   "cell_type": "code",
   "execution_count": 11,
   "metadata": {},
   "outputs": [],
   "source": [
    "db.close()"
   ]
  },
  {
   "cell_type": "code",
   "execution_count": 14,
   "metadata": {},
   "outputs": [
    {
     "name": "stdout",
     "output_type": "stream",
     "text": [
      "Saved chat log to chat.txt\n"
     ]
    }
   ],
   "source": [
    "new_chat.write_txt('chat.txt') "
   ]
  },
  {
   "cell_type": "code",
   "execution_count": 19,
   "metadata": {},
   "outputs": [
    {
     "name": "stdout",
     "output_type": "stream",
     "text": [
      "You are wise and helpful.\n",
      "\n",
      "-----------------------------------------\n",
      "\n",
      "what time should I go to bed?\n",
      "\n",
      "-----------------------------------------\n",
      "\n",
      "The recommended amount of sleep for adults is usually 7-9 hours per night. Generally, it is recommended that you establish a consistent sleep schedule and try to go to bed and wake up at the same time every day, even on weekends. Depending on what time you need to wake up in the morning, you can set a bedtime that allows you to get enough rest. For example, if you need to wake up at 6am, you should aim to go to bed between 9pm-11pm. Ultimately, the best bedtime for you depends on your individual needs and schedule.\n",
      "\n",
      "-----------------------------------------\n",
      "\n",
      "so when should I go to sleep if I want to tee off at 7:15AM?\n",
      "\n",
      "-----------------------------------------\n",
      "\n",
      "Assuming you want to wake up at least two hours before tee off time to have breakfast, get ready, and arrive at the golf course with enough time to warm up, you should plan to wake up at around 5:00-5:30 AM. \n",
      "\n",
      "If you want to get 7-9 hours of sleep, and counting back from your wake-up time, you should aim to go to bed between 8:15-10:15 PM. \n",
      "\n",
      "Of course, this schedule can be adjusted based on your personal preferences and what time you are used to waking up and going to bed.\n",
      "\n",
      "-----------------------------------------\n",
      "\n",
      "I think I can probably wake up only 1 hour before my tee time\n",
      "\n",
      "-----------------------------------------\n",
      "\n",
      "If you plan to wake up just one hour before your tee time, then you should consider getting enough sleep according to your body’s requirements. Some people can function very well with just 6 hours of sleep, while others need at least 8 hours to feel rested the next day. \n",
      "\n",
      "Assuming you need 7-8 hours of sleep to feel well-rested, you should plan to go to bed between 10:15-11:15 PM the night before your tee time. However, it's important to note that getting less than the recommended amount of sleep may affect your focus, performance, and enjoyment of the game.\n"
     ]
    }
   ],
   "source": [
    "db = ChatDB()\n",
    "golf_chat = db.search(Query().name == 'Sleep_Golf_Time')[0]\n",
    "golf_chat.print()"
   ]
  },
  {
   "cell_type": "code",
   "execution_count": 20,
   "metadata": {},
   "outputs": [],
   "source": [
    "db.close()"
   ]
  },
  {
   "attachments": {},
   "cell_type": "markdown",
   "metadata": {},
   "source": []
  }
 ],
 "metadata": {
  "kernelspec": {
   "display_name": "Python 3",
   "language": "python",
   "name": "python3"
  },
  "language_info": {
   "codemirror_mode": {
    "name": "ipython",
    "version": 3
   },
   "file_extension": ".py",
   "mimetype": "text/x-python",
   "name": "python",
   "nbconvert_exporter": "python",
   "pygments_lexer": "ipython3",
   "version": "3.8.0"
  },
  "orig_nbformat": 4
 },
 "nbformat": 4,
 "nbformat_minor": 2
}

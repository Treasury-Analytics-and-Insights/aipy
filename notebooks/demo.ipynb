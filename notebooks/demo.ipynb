{
 "cells": [
  {
   "attachments": {},
   "cell_type": "markdown",
   "metadata": {},
   "source": [
    "# Demo of aipy"
   ]
  },
  {
   "cell_type": "code",
   "execution_count": 1,
   "metadata": {},
   "outputs": [],
   "source": [
    "import sys\n",
    "sys.path.append('..')\n",
    "\n",
    "from tinydb import Query\n",
    "\n",
    "from aipy.ai import *\n"
   ]
  },
  {
   "attachments": {},
   "cell_type": "markdown",
   "metadata": {},
   "source": [
    "## Load the DB of existing chats, and summarize it"
   ]
  },
  {
   "cell_type": "code",
   "execution_count": 2,
   "metadata": {},
   "outputs": [
    {
     "name": "stdout",
     "output_type": "stream",
     "text": [
      "+-------------------------------------------------------------+-----------------+---------------------------------------------------------+-----------------------------------------------------------------------------------------------------------------------------------------------------------------------------------------------------------------+\n",
      "|                             Name                            |       Date      |                          Topics                         |                                                                                                     Summary                                                                                                     |\n",
      "+-------------------------------------------------------------+-----------------+---------------------------------------------------------+-----------------------------------------------------------------------------------------------------------------------------------------------------------------------------------------------------------------+\n",
      "|                     Code_Chatbot_OpenAI                     | 20230528_174323 |              ['Code', 'Chatbot', 'OpenAI']              |                                          This chat, named \"CodeChat\", is a chatbot designed to interact with and provide assistance on code using the OpenAI chat API.                                          |\n",
      "|                                                             | 20230528_215454 |                            []                           |                                                Unfortunately, I don't have access to the chat history between us, so I am unable to describe it in one sentence.                                                |\n",
      "|                       Sleep_Golf_Time                       | 20230528_221409 |                ['Sleep', 'Golf', 'Time']                |                                                                This chat was about sleep, bedtimes, and scheduling for an early morning tee time.                                                               |\n",
      "|        Economics_Labor market_Unemployment insurance        | 20230529_103335 | ['Economics', 'Labor market', 'Unemployment insurance'] |                          This chat involved the user asking questions about the meaning of specific phrases in an abstract and receiving clear explanations from the AI language model.                         |\n",
      "|           Brainstorming_Generative AI_Productivity          | 20230529_170759 |    ['Brainstorming', 'Generative AI', 'Productivity']   | This chat was a conversation between a user seeking advice on how to run a brainstorming session on utilizing generative AI with their team, and an AI assistant who provided tips on how to do so effectively. |\n",
      "|        Minecraft-Screen_Time-Balance-20230530_175401        | 20230530_175401 |         ['Minecraft', 'Screen Time', 'Balance']         |                                  This chat is a conversation between a user and an AI language model, discussing topics such as Minecraft usage and setting appropriate limits.                                 |\n",
      "|  Economics-Stationarity-Comparative_statics-20230609_154848 | 20230609_154848 |   ['Economics', 'Stationarity', 'Comparative statics']  |    This chat is a conversation between a user and an AI assistant about various topics related to economics and quantitative analysis, including regression analysis, stationarity, and comparative statics.    |\n",
      "|        Productivity-Health-Ergonomics-20230612_134741       | 20230612_134741 |        ['Productivity', 'Ergonomics', 'Wellness']       |                                                    A helpful conversation on the topic of standing desks and the recommended time to spend standing at them.                                                    |\n",
      "| RShiny-Data_Visualization-Python_Conversion-20230616_095055 | 20230616_095055 |  ['RShiny', 'Data Visualization', 'Python Conversion']  |                                     The code converts an RShiny app that visualizes income distributions for households and families in New Zealand into a Python Dash app.                                     |\n",
      "+-------------------------------------------------------------+-----------------+---------------------------------------------------------+-----------------------------------------------------------------------------------------------------------------------------------------------------------------------------------------------------------------+\n"
     ]
    },
    {
     "data": {
      "text/html": [
       "<table>\n",
       "    <thead>\n",
       "        <tr>\n",
       "            <th>Name</th>\n",
       "            <th>Date</th>\n",
       "            <th>Topics</th>\n",
       "            <th>Summary</th>\n",
       "        </tr>\n",
       "    </thead>\n",
       "    <tbody>\n",
       "        <tr>\n",
       "            <td>Code_Chatbot_OpenAI</td>\n",
       "            <td>20230528_174323</td>\n",
       "            <td>[&#x27;Code&#x27;, &#x27;Chatbot&#x27;, &#x27;OpenAI&#x27;]</td>\n",
       "            <td>This chat, named &quot;CodeChat&quot;, is a chatbot designed to interact with and provide assistance on code using the OpenAI chat API.</td>\n",
       "        </tr>\n",
       "        <tr>\n",
       "            <td></td>\n",
       "            <td>20230528_215454</td>\n",
       "            <td>[]</td>\n",
       "            <td>Unfortunately, I don&#x27;t have access to the chat history between us, so I am unable to describe it in one sentence.</td>\n",
       "        </tr>\n",
       "        <tr>\n",
       "            <td>Sleep_Golf_Time</td>\n",
       "            <td>20230528_221409</td>\n",
       "            <td>[&#x27;Sleep&#x27;, &#x27;Golf&#x27;, &#x27;Time&#x27;]</td>\n",
       "            <td>This chat was about sleep, bedtimes, and scheduling for an early morning tee time.</td>\n",
       "        </tr>\n",
       "        <tr>\n",
       "            <td>Economics_Labor market_Unemployment insurance</td>\n",
       "            <td>20230529_103335</td>\n",
       "            <td>[&#x27;Economics&#x27;, &#x27;Labor market&#x27;, &#x27;Unemployment insurance&#x27;]</td>\n",
       "            <td>This chat involved the user asking questions about the meaning of specific phrases in an abstract and receiving clear explanations from the AI language model.</td>\n",
       "        </tr>\n",
       "        <tr>\n",
       "            <td>Brainstorming_Generative AI_Productivity</td>\n",
       "            <td>20230529_170759</td>\n",
       "            <td>[&#x27;Brainstorming&#x27;, &#x27;Generative AI&#x27;, &#x27;Productivity&#x27;]</td>\n",
       "            <td>This chat was a conversation between a user seeking advice on how to run a brainstorming session on utilizing generative AI with their team, and an AI assistant who provided tips on how to do so effectively.</td>\n",
       "        </tr>\n",
       "        <tr>\n",
       "            <td>Minecraft-Screen_Time-Balance-20230530_175401</td>\n",
       "            <td>20230530_175401</td>\n",
       "            <td>[&#x27;Minecraft&#x27;, &#x27;Screen Time&#x27;, &#x27;Balance&#x27;]</td>\n",
       "            <td>This chat is a conversation between a user and an AI language model, discussing topics such as Minecraft usage and setting appropriate limits.</td>\n",
       "        </tr>\n",
       "        <tr>\n",
       "            <td>Economics-Stationarity-Comparative_statics-20230609_154848</td>\n",
       "            <td>20230609_154848</td>\n",
       "            <td>[&#x27;Economics&#x27;, &#x27;Stationarity&#x27;, &#x27;Comparative statics&#x27;]</td>\n",
       "            <td>This chat is a conversation between a user and an AI assistant about various topics related to economics and quantitative analysis, including regression analysis, stationarity, and comparative statics.</td>\n",
       "        </tr>\n",
       "        <tr>\n",
       "            <td>Productivity-Health-Ergonomics-20230612_134741</td>\n",
       "            <td>20230612_134741</td>\n",
       "            <td>[&#x27;Productivity&#x27;, &#x27;Ergonomics&#x27;, &#x27;Wellness&#x27;]</td>\n",
       "            <td>A helpful conversation on the topic of standing desks and the recommended time to spend standing at them.</td>\n",
       "        </tr>\n",
       "        <tr>\n",
       "            <td>RShiny-Data_Visualization-Python_Conversion-20230616_095055</td>\n",
       "            <td>20230616_095055</td>\n",
       "            <td>[&#x27;RShiny&#x27;, &#x27;Data Visualization&#x27;, &#x27;Python Conversion&#x27;]</td>\n",
       "            <td>The code converts an RShiny app that visualizes income distributions for households and families in New Zealand into a Python Dash app.</td>\n",
       "        </tr>\n",
       "    </tbody>\n",
       "</table>"
      ],
      "text/plain": [
       "+-------------------------------------------------------------+-----------------+---------------------------------------------------------+-----------------------------------------------------------------------------------------------------------------------------------------------------------------------------------------------------------------+\n",
       "|                             Name                            |       Date      |                          Topics                         |                                                                                                     Summary                                                                                                     |\n",
       "+-------------------------------------------------------------+-----------------+---------------------------------------------------------+-----------------------------------------------------------------------------------------------------------------------------------------------------------------------------------------------------------------+\n",
       "|                     Code_Chatbot_OpenAI                     | 20230528_174323 |              ['Code', 'Chatbot', 'OpenAI']              |                                          This chat, named \"CodeChat\", is a chatbot designed to interact with and provide assistance on code using the OpenAI chat API.                                          |\n",
       "|                                                             | 20230528_215454 |                            []                           |                                                Unfortunately, I don't have access to the chat history between us, so I am unable to describe it in one sentence.                                                |\n",
       "|                       Sleep_Golf_Time                       | 20230528_221409 |                ['Sleep', 'Golf', 'Time']                |                                                                This chat was about sleep, bedtimes, and scheduling for an early morning tee time.                                                               |\n",
       "|        Economics_Labor market_Unemployment insurance        | 20230529_103335 | ['Economics', 'Labor market', 'Unemployment insurance'] |                          This chat involved the user asking questions about the meaning of specific phrases in an abstract and receiving clear explanations from the AI language model.                         |\n",
       "|           Brainstorming_Generative AI_Productivity          | 20230529_170759 |    ['Brainstorming', 'Generative AI', 'Productivity']   | This chat was a conversation between a user seeking advice on how to run a brainstorming session on utilizing generative AI with their team, and an AI assistant who provided tips on how to do so effectively. |\n",
       "|        Minecraft-Screen_Time-Balance-20230530_175401        | 20230530_175401 |         ['Minecraft', 'Screen Time', 'Balance']         |                                  This chat is a conversation between a user and an AI language model, discussing topics such as Minecraft usage and setting appropriate limits.                                 |\n",
       "|  Economics-Stationarity-Comparative_statics-20230609_154848 | 20230609_154848 |   ['Economics', 'Stationarity', 'Comparative statics']  |    This chat is a conversation between a user and an AI assistant about various topics related to economics and quantitative analysis, including regression analysis, stationarity, and comparative statics.    |\n",
       "|        Productivity-Health-Ergonomics-20230612_134741       | 20230612_134741 |        ['Productivity', 'Ergonomics', 'Wellness']       |                                                    A helpful conversation on the topic of standing desks and the recommended time to spend standing at them.                                                    |\n",
       "| RShiny-Data_Visualization-Python_Conversion-20230616_095055 | 20230616_095055 |  ['RShiny', 'Data Visualization', 'Python Conversion']  |                                     The code converts an RShiny app that visualizes income distributions for households and families in New Zealand into a Python Dash app.                                     |\n",
       "+-------------------------------------------------------------+-----------------+---------------------------------------------------------+-----------------------------------------------------------------------------------------------------------------------------------------------------------------------------------------------------------------+"
      ]
     },
     "execution_count": 2,
     "metadata": {},
     "output_type": "execute_result"
    }
   ],
   "source": [
    "db = ChatDB('chats.json')\n",
    "db.summarise()"
   ]
  },
  {
   "attachments": {},
   "cell_type": "markdown",
   "metadata": {},
   "source": [
    "## start a new chat"
   ]
  },
  {
   "cell_type": "code",
   "execution_count": 3,
   "metadata": {},
   "outputs": [],
   "source": [
    "new_chat = Chat()"
   ]
  },
  {
   "cell_type": "code",
   "execution_count": 4,
   "metadata": {},
   "outputs": [
    {
     "data": {
      "text/plain": [
       "'One simple way to convert a Word document into a chat message is to copy the text and paste it into the chat interface. However, if you want to maintain the heading structure, you can follow these steps:\\n\\n1. Highlight the text you want to copy and click \"Ctrl+C\" to copy it.\\n\\n2. Open a text editor such as Notepad or TextEdit.\\n\\n3. Click \"Ctrl+V\" to paste the text into the text editor.\\n\\n4. Save the file as a plain text file with a .txt extension.\\n\\n5. Open the chat interface and click on the option to send a new message.\\n\\n6. Click on the option to attach a file.\\n\\n7. Choose the .txt file you just saved and click \"Send\".\\n\\n8. The chat message will now appear with the heading structure intact.\\n\\nAlternatively, you can also use a chatbot platform like Dialogflow or Botpress which allows you to create chatbots that can accept and parse Word documents, allowing you to maintain the heading structure.'"
      ]
     },
     "execution_count": 4,
     "metadata": {},
     "output_type": "execute_result"
    }
   ],
   "source": [
    "new_chat.ask('What is the best and easiest way to convert a word document into a message or context in chatgpt - ideally maintaining heading structure')"
   ]
  },
  {
   "cell_type": "code",
   "execution_count": 5,
   "metadata": {},
   "outputs": [
    {
     "data": {
      "text/plain": [
       "'Yes, saving the Word document as HTML might help ChatGPT understand the heading structure better, as HTML is a markup language and includes specific tags for different levels of headings. \\n\\nTo save a Word document as HTML, follow these steps: \\n\\n1. Open the Word document you want to save as HTML.\\n2. Click \"File\" and select \"Save As.\"\\n3. Choose \"Web Page, Filtered\" as the file type.\\n4. Name the file and save it to your desired location.\\n5. Open the HTML file in a text editor.\\n6. You can copy the text content including the HTML structure with the header tags and paste it into the chat interface. \\n\\nBy copying and pasting the text with HTML structure into the chat interface, ChatGPT would retain the header structure and render it accurately for you to read.'"
      ]
     },
     "execution_count": 5,
     "metadata": {},
     "output_type": "execute_result"
    }
   ],
   "source": [
    "new_chat.ask('would saving the word document as html help chatgpt understand the heading structure?')"
   ]
  },
  {
   "cell_type": "code",
   "execution_count": 6,
   "metadata": {},
   "outputs": [
    {
     "ename": "FileNotFoundError",
     "evalue": "[Errno 2] No such file or directory: 'C:\\\\Users\\\\DavisC\\\\OneDrive - Central Agencies Shared Services\\\\projects\\\\climate_analytical_note\\\\climate_analytical_not.htm'",
     "output_type": "error",
     "traceback": [
      "\u001b[1;31m---------------------------------------------------------------------------\u001b[0m",
      "\u001b[1;31mFileNotFoundError\u001b[0m                         Traceback (most recent call last)",
      "Cell \u001b[1;32mIn[6], line 1\u001b[0m\n\u001b[1;32m----> 1\u001b[0m html \u001b[39m=\u001b[39m \u001b[39mopen\u001b[39;49m(\u001b[39mr\u001b[39;49m\u001b[39m'\u001b[39;49m\u001b[39mC:\u001b[39;49m\u001b[39m\\\u001b[39;49m\u001b[39mUsers\u001b[39;49m\u001b[39m\\\u001b[39;49m\u001b[39mDavisC\u001b[39;49m\u001b[39m\\\u001b[39;49m\u001b[39mOneDrive - Central Agencies Shared Services\u001b[39;49m\u001b[39m\\\u001b[39;49m\u001b[39mprojects\u001b[39;49m\u001b[39m\\\u001b[39;49m\u001b[39mclimate_analytical_note\u001b[39;49m\u001b[39m\\\u001b[39;49m\u001b[39mclimate_analytical_not.htm\u001b[39;49m\u001b[39m'\u001b[39;49m)\u001b[39m.\u001b[39mread()\n",
      "File \u001b[1;32m~\\AppData\\Roaming\\Python\\Python38\\site-packages\\IPython\\core\\interactiveshell.py:284\u001b[0m, in \u001b[0;36m_modified_open\u001b[1;34m(file, *args, **kwargs)\u001b[0m\n\u001b[0;32m    277\u001b[0m \u001b[39mif\u001b[39;00m file \u001b[39min\u001b[39;00m {\u001b[39m0\u001b[39m, \u001b[39m1\u001b[39m, \u001b[39m2\u001b[39m}:\n\u001b[0;32m    278\u001b[0m     \u001b[39mraise\u001b[39;00m \u001b[39mValueError\u001b[39;00m(\n\u001b[0;32m    279\u001b[0m         \u001b[39mf\u001b[39m\u001b[39m\"\u001b[39m\u001b[39mIPython won\u001b[39m\u001b[39m'\u001b[39m\u001b[39mt let you open fd=\u001b[39m\u001b[39m{\u001b[39;00mfile\u001b[39m}\u001b[39;00m\u001b[39m by default \u001b[39m\u001b[39m\"\u001b[39m\n\u001b[0;32m    280\u001b[0m         \u001b[39m\"\u001b[39m\u001b[39mas it is likely to crash IPython. If you know what you are doing, \u001b[39m\u001b[39m\"\u001b[39m\n\u001b[0;32m    281\u001b[0m         \u001b[39m\"\u001b[39m\u001b[39myou can use builtins\u001b[39m\u001b[39m'\u001b[39m\u001b[39m open.\u001b[39m\u001b[39m\"\u001b[39m\n\u001b[0;32m    282\u001b[0m     )\n\u001b[1;32m--> 284\u001b[0m \u001b[39mreturn\u001b[39;00m io_open(file, \u001b[39m*\u001b[39;49margs, \u001b[39m*\u001b[39;49m\u001b[39m*\u001b[39;49mkwargs)\n",
      "\u001b[1;31mFileNotFoundError\u001b[0m: [Errno 2] No such file or directory: 'C:\\\\Users\\\\DavisC\\\\OneDrive - Central Agencies Shared Services\\\\projects\\\\climate_analytical_note\\\\climate_analytical_not.htm'"
     ]
    }
   ],
   "source": [
    "html = open(r'C:\\Users\\DavisC\\OneDrive - Central Agencies Shared Services\\projects\\climate_analytical_note\\climate_analytical_note.htm').read()"
   ]
  },
  {
   "cell_type": "code",
   "execution_count": 7,
   "metadata": {},
   "outputs": [
    {
     "data": {
      "text/plain": [
       "'The sentence \"Aggregate welfare is inverted U-shaped in benefits\" means that the total welfare (i.e., well-being or happiness) of the economy changes in response to changes in the level of unemployment insurance benefits. An inverted U-shape indicates that the welfare first increases with higher benefits and then decreases after passing a certain point. In simpler terms, when unemployment insurance benefits are low, increasing them can improve the overall welfare of the economy because it provides more protection for workers. However, if benefits become too high, it may create disincentives for people to work and reduce overall production in the economy, leading to a decrease in overall welfare. Therefore, there may be an optimal level of benefits that maximizes the welfare of the economy, which is somewhere in the middle (i.e., the peak of the inverted U-shape).'"
      ]
     },
     "execution_count": 7,
     "metadata": {},
     "output_type": "execute_result"
    }
   ],
   "source": [
    "new_chat.ask(\"what do they mean by 'Aggregate welfare is inverted U-shaped in benefits'\")"
   ]
  },
  {
   "cell_type": "code",
   "execution_count": 8,
   "metadata": {},
   "outputs": [
    {
     "name": "stdout",
     "output_type": "stream",
     "text": [
      "You are wise and helpful.\n",
      "\n",
      "-----------------------------------------\n",
      "\n",
      "Please summarise this abstract for me in plain english: We propose a theory that analyzes how a workers’ asset holdings affect their job productivity. In a labor market with uninsurable risk, workers choose to direct their job search trading off productivity and wages against unemployment risk. Workers with low asset holdings have a precautionary job search motive, they direct their search to low productivity jobs because those offer a low risk at the cost of low productivity and a low wage. Our main theoretical contribution shows that the presence of consumption smoothing can reconcile the directed search model with negative duration-dependence on wages, a robust empirical regularity that the canonical directed search model cannot rationalize. We calibrate the infinite horizon economy and find this mechanism to be quantitatively important. We evaluate a tax financed unemployment insurance (UI) scheme and analyze how it affects welfare. Aggregate welfare is inverted U-shaped in benefits: the insurance effect UI dominates the incentive effects for low levels of benefits and vice versa for high benefits. In addition, when UI increases, total production falls in the economy while worker productivity increases.\n",
      "\n",
      "-----------------------------------------\n",
      "\n",
      "This abstract suggests that workers' savings can affect how well they perform at work. If workers have low savings, they may focus on finding jobs that offer more security, even if they pay less. However, if a worker has a way to smooth out their income (such as through unemployment insurance), they may be more willing to take higher-paying, higher-productivity jobs. The study also examines how increasing unemployment insurance benefits can affect the overall economy and workers' welfare.\n",
      "\n",
      "-----------------------------------------\n",
      "\n",
      "what do they mean by \"consumption smoothing\"\n",
      "\n",
      "-----------------------------------------\n",
      "\n",
      "Consumption smoothing is a financial strategy that aims to maintain a steady level of spending over time by saving during periods of higher income or wealth and spending during periods of lower income or wealth. In the context of this abstract, the authors suggest that workers with low asset holdings may choose low productivity jobs with low wages to minimize their income volatility if they are concerned about a sudden drop in their income or if they lack the ability to smooth consumption over time. However, if they have a method for smoothing out their income, such as unemployment insurance, they may feel more comfortable taking higher-paying jobs that have higher levels of productivity. Therefore, the ability to smooth consumption has an impact on workers' job choices and productivity.\n",
      "\n",
      "-----------------------------------------\n",
      "\n",
      "what do they mean by 'Aggregate welfare is inverted U-shaped in benefits'\n",
      "\n",
      "-----------------------------------------\n",
      "\n",
      "The sentence \"Aggregate welfare is inverted U-shaped in benefits\" means that the total welfare (i.e., well-being or happiness) of the economy changes in response to changes in the level of unemployment insurance benefits. An inverted U-shape indicates that the welfare first increases with higher benefits and then decreases after passing a certain point. In simpler terms, when unemployment insurance benefits are low, increasing them can improve the overall welfare of the economy because it provides more protection for workers. However, if benefits become too high, it may create disincentives for people to work and reduce overall production in the economy, leading to a decrease in overall welfare. Therefore, there may be an optimal level of benefits that maximizes the welfare of the economy, which is somewhere in the middle (i.e., the peak of the inverted U-shape).\n"
     ]
    }
   ],
   "source": [
    "new_chat.print()"
   ]
  },
  {
   "attachments": {},
   "cell_type": "markdown",
   "metadata": {},
   "source": [
    "## and store it in the DB"
   ]
  },
  {
   "cell_type": "code",
   "execution_count": 9,
   "metadata": {},
   "outputs": [],
   "source": [
    "db.store(new_chat)"
   ]
  },
  {
   "cell_type": "code",
   "execution_count": 10,
   "metadata": {},
   "outputs": [
    {
     "name": "stdout",
     "output_type": "stream",
     "text": [
      "+-----------------------------------------------+-----------------+---------------------------------------------------------+----------------------------------------------------------------------------------------------------------------------------------------------------------------+\n",
      "|                      Name                     |       Date      |                          Topics                         |                                                                            Summary                                                                             |\n",
      "+-----------------------------------------------+-----------------+---------------------------------------------------------+----------------------------------------------------------------------------------------------------------------------------------------------------------------+\n",
      "|              Code_Chatbot_OpenAI              | 20230528_174323 |              ['Code', 'Chatbot', 'OpenAI']              |                 This chat, named \"CodeChat\", is a chatbot designed to interact with and provide assistance on code using the OpenAI chat API.                  |\n",
      "|                                               | 20230528_215454 |                            []                           |                       Unfortunately, I don't have access to the chat history between us, so I am unable to describe it in one sentence.                        |\n",
      "|                Sleep_Golf_Time                | 20230528_221409 |                ['Sleep', 'Golf', 'Time']                |                                       This chat was about sleep, bedtimes, and scheduling for an early morning tee time.                                       |\n",
      "| Economics_Labor market_Unemployment insurance | 20230529_103335 | ['Economics', 'Labor market', 'Unemployment insurance'] | This chat involved the user asking questions about the meaning of specific phrases in an abstract and receiving clear explanations from the AI language model. |\n",
      "+-----------------------------------------------+-----------------+---------------------------------------------------------+----------------------------------------------------------------------------------------------------------------------------------------------------------------+\n"
     ]
    },
    {
     "data": {
      "text/html": [
       "<table>\n",
       "    <thead>\n",
       "        <tr>\n",
       "            <th>Name</th>\n",
       "            <th>Date</th>\n",
       "            <th>Topics</th>\n",
       "            <th>Summary</th>\n",
       "        </tr>\n",
       "    </thead>\n",
       "    <tbody>\n",
       "        <tr>\n",
       "            <td>Code_Chatbot_OpenAI</td>\n",
       "            <td>20230528_174323</td>\n",
       "            <td>[&#x27;Code&#x27;, &#x27;Chatbot&#x27;, &#x27;OpenAI&#x27;]</td>\n",
       "            <td>This chat, named &quot;CodeChat&quot;, is a chatbot designed to interact with and provide assistance on code using the OpenAI chat API.</td>\n",
       "        </tr>\n",
       "        <tr>\n",
       "            <td></td>\n",
       "            <td>20230528_215454</td>\n",
       "            <td>[]</td>\n",
       "            <td>Unfortunately, I don&#x27;t have access to the chat history between us, so I am unable to describe it in one sentence.</td>\n",
       "        </tr>\n",
       "        <tr>\n",
       "            <td>Sleep_Golf_Time</td>\n",
       "            <td>20230528_221409</td>\n",
       "            <td>[&#x27;Sleep&#x27;, &#x27;Golf&#x27;, &#x27;Time&#x27;]</td>\n",
       "            <td>This chat was about sleep, bedtimes, and scheduling for an early morning tee time.</td>\n",
       "        </tr>\n",
       "        <tr>\n",
       "            <td>Economics_Labor market_Unemployment insurance</td>\n",
       "            <td>20230529_103335</td>\n",
       "            <td>[&#x27;Economics&#x27;, &#x27;Labor market&#x27;, &#x27;Unemployment insurance&#x27;]</td>\n",
       "            <td>This chat involved the user asking questions about the meaning of specific phrases in an abstract and receiving clear explanations from the AI language model.</td>\n",
       "        </tr>\n",
       "    </tbody>\n",
       "</table>"
      ],
      "text/plain": [
       "+-----------------------------------------------+-----------------+---------------------------------------------------------+----------------------------------------------------------------------------------------------------------------------------------------------------------------+\n",
       "|                      Name                     |       Date      |                          Topics                         |                                                                            Summary                                                                             |\n",
       "+-----------------------------------------------+-----------------+---------------------------------------------------------+----------------------------------------------------------------------------------------------------------------------------------------------------------------+\n",
       "|              Code_Chatbot_OpenAI              | 20230528_174323 |              ['Code', 'Chatbot', 'OpenAI']              |                 This chat, named \"CodeChat\", is a chatbot designed to interact with and provide assistance on code using the OpenAI chat API.                  |\n",
       "|                                               | 20230528_215454 |                            []                           |                       Unfortunately, I don't have access to the chat history between us, so I am unable to describe it in one sentence.                        |\n",
       "|                Sleep_Golf_Time                | 20230528_221409 |                ['Sleep', 'Golf', 'Time']                |                                       This chat was about sleep, bedtimes, and scheduling for an early morning tee time.                                       |\n",
       "| Economics_Labor market_Unemployment insurance | 20230529_103335 | ['Economics', 'Labor market', 'Unemployment insurance'] | This chat involved the user asking questions about the meaning of specific phrases in an abstract and receiving clear explanations from the AI language model. |\n",
       "+-----------------------------------------------+-----------------+---------------------------------------------------------+----------------------------------------------------------------------------------------------------------------------------------------------------------------+"
      ]
     },
     "execution_count": 10,
     "metadata": {},
     "output_type": "execute_result"
    }
   ],
   "source": [
    "db.summarise()"
   ]
  },
  {
   "cell_type": "code",
   "execution_count": 11,
   "metadata": {},
   "outputs": [],
   "source": [
    "db.close()"
   ]
  },
  {
   "cell_type": "code",
   "execution_count": 14,
   "metadata": {},
   "outputs": [
    {
     "name": "stdout",
     "output_type": "stream",
     "text": [
      "Saved chat log to chat.txt\n"
     ]
    }
   ],
   "source": [
    "new_chat.write_txt('chat.txt') "
   ]
  },
  {
   "cell_type": "code",
   "execution_count": 19,
   "metadata": {},
   "outputs": [
    {
     "name": "stdout",
     "output_type": "stream",
     "text": [
      "You are wise and helpful.\n",
      "\n",
      "-----------------------------------------\n",
      "\n",
      "what time should I go to bed?\n",
      "\n",
      "-----------------------------------------\n",
      "\n",
      "The recommended amount of sleep for adults is usually 7-9 hours per night. Generally, it is recommended that you establish a consistent sleep schedule and try to go to bed and wake up at the same time every day, even on weekends. Depending on what time you need to wake up in the morning, you can set a bedtime that allows you to get enough rest. For example, if you need to wake up at 6am, you should aim to go to bed between 9pm-11pm. Ultimately, the best bedtime for you depends on your individual needs and schedule.\n",
      "\n",
      "-----------------------------------------\n",
      "\n",
      "so when should I go to sleep if I want to tee off at 7:15AM?\n",
      "\n",
      "-----------------------------------------\n",
      "\n",
      "Assuming you want to wake up at least two hours before tee off time to have breakfast, get ready, and arrive at the golf course with enough time to warm up, you should plan to wake up at around 5:00-5:30 AM. \n",
      "\n",
      "If you want to get 7-9 hours of sleep, and counting back from your wake-up time, you should aim to go to bed between 8:15-10:15 PM. \n",
      "\n",
      "Of course, this schedule can be adjusted based on your personal preferences and what time you are used to waking up and going to bed.\n",
      "\n",
      "-----------------------------------------\n",
      "\n",
      "I think I can probably wake up only 1 hour before my tee time\n",
      "\n",
      "-----------------------------------------\n",
      "\n",
      "If you plan to wake up just one hour before your tee time, then you should consider getting enough sleep according to your body’s requirements. Some people can function very well with just 6 hours of sleep, while others need at least 8 hours to feel rested the next day. \n",
      "\n",
      "Assuming you need 7-8 hours of sleep to feel well-rested, you should plan to go to bed between 10:15-11:15 PM the night before your tee time. However, it's important to note that getting less than the recommended amount of sleep may affect your focus, performance, and enjoyment of the game.\n"
     ]
    }
   ],
   "source": [
    "db = ChatDB()\n",
    "golf_chat = db.search(Query().name == 'Sleep_Golf_Time')[0]\n",
    "golf_chat.print()"
   ]
  },
  {
   "cell_type": "code",
   "execution_count": 20,
   "metadata": {},
   "outputs": [],
   "source": [
    "db.close()"
   ]
  },
  {
   "attachments": {},
   "cell_type": "markdown",
   "metadata": {},
   "source": []
  }
 ],
 "metadata": {
  "kernelspec": {
   "display_name": "Python 3",
   "language": "python",
   "name": "python3"
  },
  "language_info": {
   "codemirror_mode": {
    "name": "ipython",
    "version": 3
   },
   "file_extension": ".py",
   "mimetype": "text/x-python",
   "name": "python",
   "nbconvert_exporter": "python",
   "pygments_lexer": "ipython3",
   "version": "3.8.0"
  },
  "orig_nbformat": 4
 },
 "nbformat": 4,
 "nbformat_minor": 2
}
